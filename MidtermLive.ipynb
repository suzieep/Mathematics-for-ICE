{
 "cells": [
  {
   "cell_type": "code",
   "execution_count": 1,
   "metadata": {},
   "outputs": [],
   "source": [
    "import matplotlib.pyplot as plt\n",
    "from math import log, log10, e, pi,cos,sin\n",
    "from numpy import *\n",
    "import cmath\n",
    "from cmath import pi, exp\n",
    "from mpl_toolkits import mplot3d\n",
    "from sympy import *\n",
    "import numpy as np\n",
    "import math"
   ]
  },
  {
   "cell_type": "code",
   "execution_count": 15,
   "metadata": {},
   "outputs": [
    {
     "name": "stdout",
     "output_type": "stream",
     "text": [
      "complex to polar (13.0, 1.176005207095135)\n",
      "magnitude 13.0\n",
      "phase 67.38013505195957\n",
      "polar form to rectangular form (5.000000000000001+12j)\n"
     ]
    }
   ],
   "source": [
    "u=5+12j\n",
    "print(\"complex to polar\",cmath.polar(u)) #complex to polar\n",
    "print(\"magnitude\",abs(u)) #크기 magnitude\n",
    "print(\"phase\",rad2deg(cmath.phase(u)))#radian to degree\n",
    "a = cmath.polar(u)\n",
    "print(\"polar form to rectangular form\",cmath.rect(a[0], a[1]))"
   ]
  },
  {
   "cell_type": "code",
   "execution_count": 5,
   "metadata": {},
   "outputs": [
    {
     "name": "stdout",
     "output_type": "stream",
     "text": [
      "(5.830951894845301, 1.0303768265243125)\n"
     ]
    }
   ],
   "source": [
    "print(cmath.polar(u))"
   ]
  },
  {
   "cell_type": "markdown",
   "metadata": {},
   "source": [
    "Z = x + jy   »  Rectangular Form\n",
    "<br>\n",
    "Z = A ∠Φ   »  Polar Form\n",
    "<br>\n",
    "Z = A e jΦ   »  Exponential Form"
   ]
  },
  {
   "cell_type": "code",
   "execution_count": 24,
   "metadata": {},
   "outputs": [
    {
     "name": "stdout",
     "output_type": "stream",
     "text": [
      "(4+6j)\n",
      "(-5+10j)\n",
      "(1-2j)\n",
      "0.927295218001612\n"
     ]
    }
   ],
   "source": [
    "v=1+2j\n",
    "w=3+4j\n",
    "print(v+w)\n",
    "print(v*w)\n",
    "print(conj(v)) #conjugate\n",
    "print(arg(w))"
   ]
  },
  {
   "cell_type": "code",
   "execution_count": 48,
   "metadata": {},
   "outputs": [
    {
     "data": {
      "text/plain": [
       "(3.7320508075688767+4.464101615137755j)"
      ]
     },
     "execution_count": 48,
     "metadata": {},
     "output_type": "execute_result"
    }
   ],
   "source": [
    "cmath.rect(2,pi/6)+cmath.rect(4,pi/3)"
   ]
  },
  {
   "cell_type": "code",
   "execution_count": null,
   "metadata": {},
   "outputs": [],
   "source": []
  },
  {
   "cell_type": "code",
   "execution_count": 32,
   "metadata": {},
   "outputs": [
    {
     "name": "stdout",
     "output_type": "stream",
     "text": [
      "A+B\n",
      " [[11  1]\n",
      " [ 8  0]]\n",
      "\n",
      "A-B\n",
      " [[ -7   7]\n",
      " [  2 -12]]\n",
      "\n",
      "A*B\n",
      " [[ 36 -12]\n",
      " [ -1   2]]\n",
      "\n",
      "tranpose\n",
      " [[ 1  2  3]\n",
      " [ 1  1 -3]]\n",
      "\n",
      " determinant of A. 62.99999999999999\n",
      "\n",
      "inverse\n",
      " [[ 0.0952381   0.04761905]\n",
      " [-0.04761905  0.14285714]]\n"
     ]
    }
   ],
   "source": [
    "# Numpy Matrix Operations\n",
    "import numpy as np\n",
    "\n",
    "A = np.array([[2, 4],\n",
    "              [5, -6]])\n",
    "B = np.array([[9, -3],\n",
    "              [3, 6]])\n",
    "C = A + B      # element wise addition\n",
    "D = A - B      # element wise subtraction\n",
    "print(\"A+B\\n\",C)\n",
    "print(\"\\nA-B\\n\",D)\n",
    "\n",
    "E = np.array([[3, 6, 7], \n",
    "              [5, -3, 0]]) #2*3\n",
    "F = np.array([[1, 1], \n",
    "              [2, 1], \n",
    "              [3, -3]]) #3*2\n",
    "C = E.dot(F)   # matrix multiplication\n",
    "print(\"\\nA*B\\n\",C)\n",
    "\n",
    "A = np.array([[1, 1],\n",
    "              [2, 1],\n",
    "              [3, -3]])\n",
    "print(\"\\ntranpose\\n\",A.transpose())\n",
    "print(\"\\n determinant of A.\",np.linalg.det(B))\n",
    "print(\"\\ninverse\\n\",np.linalg.inv(B))"
   ]
  },
  {
   "cell_type": "code",
   "execution_count": 36,
   "metadata": {},
   "outputs": [
    {
     "name": "stdout",
     "output_type": "stream",
     "text": [
      "a :  1\n",
      "\n",
      "b :  [ 1 -1  0]\n",
      "\n",
      "c :  [ 0  1 -1]\n",
      "\n",
      "d : \n",
      " [[ 1  0  1]\n",
      " [ 0  1 -1]\n",
      " [-1  1  0]]\n",
      "\n",
      "e :  3\n",
      "\n",
      "f : \n",
      " [[ 0.5  0.5  0.5]\n",
      " [ 0.5  0.5 -0.5]\n",
      " [-0.5  0.5  0.5]]\n",
      "\n",
      "i :  2\n",
      "\n",
      "j :  2.0\n",
      "\n",
      "k : adjoint matrix of A\n",
      " [[ 1.  1.  1.]\n",
      " [ 1.  1. -1.]\n",
      " [-1.  1.  1.]]\n",
      "\n",
      "k : inverse matrix of A \n",
      " [[ 0.5  0.5  0.5]\n",
      " [ 0.5  0.5 -0.5]\n",
      " [-0.5  0.5  0.5]]\n"
     ]
    }
   ],
   "source": [
    "#2) For A = [1 2 3; 4 5 6; 1 1 3], answer the following questions:\n",
    "#Use numpy.array for creating A so that you can use slicing indices.\n",
    "A = np.array([[1, 0, -1],[ 0, 1, 1],[ 1 ,-1 ,0]])\n",
    "\n",
    "#a) Let aij be the element of ith row and jth column of A. Find a23.\n",
    "print(\"a : \",A[1][2]) #3rd element of 2nd row\n",
    "\n",
    "#b) Find 3rd row of A.\n",
    "print(\"\\nb : \",A[2])\n",
    "\n",
    "#c) Find 2nd column of A.\n",
    "print(\"\\nc : \",A[:,1])\n",
    "\n",
    "#d) Find the transpose of A.\n",
    "print(\"\\nd : \\n\",A.transpose())\n",
    "\n",
    "#e) Find the number of independent rows or columns of A.\n",
    "#Use numphy function of numpy.linalg.matrix_rank(A)\n",
    "print(\"\\ne : \",np.linalg.matrix_rank(A))\n",
    "\n",
    "#f) Find the inverse of A.\n",
    "print(\"\\nf : \\n\",np.linalg.inv(A))\n",
    "\n",
    "#i) Find the sum of the diagonal elements of A.\n",
    "print(\"\\ni : \",np.trace(A))\n",
    "#j) Find the determinant of A.\n",
    "print(\"\\nj : \",np.linalg.det(A))\n",
    "#k) Find the adjoint matrix of A and the inverse matrix of A using (j).\n",
    "print(\"\\nk : adjoint matrix of A\\n\",np.linalg.det(A)*np.linalg.inv(A))\n",
    "print(\"\\nk : inverse matrix of A \\n\",np.linalg.inv(A))"
   ]
  },
  {
   "cell_type": "code",
   "execution_count": null,
   "metadata": {},
   "outputs": [],
   "source": [
    "#3) Find the solution of the following linear equations.\n",
    "\n",
    "#2x-3y+z = 1\n",
    "#4x-y+2z=3\n",
    "#5x-2y+3z=-2\n",
    "\n",
    "B = np.array([[2,-3,1], \n",
    "              [4,-1,2],\n",
    "              [5,-2,3]])\n",
    "\n",
    "inv_B = np.linalg.inv(B)\n",
    "\n",
    "C =np.array([1,3,-2])\n",
    "\n",
    "X = inv_B.dot(C)\n",
    "\n",
    "print(\"3)  x=    y=   z=\\n\",X)\n"
   ]
  },
  {
   "cell_type": "code",
   "execution_count": null,
   "metadata": {},
   "outputs": [],
   "source": [
    "# Slicing of a Matrix\n",
    "import numpy as np\n",
    "\n",
    "letters = np.array([1, 3, 5, 7, 9, 7, 5])\n",
    "\n",
    "print(letters[2:5])        # 3rd to 5th elements\n",
    "print(letters[:-5])        # 1st to (last-5)th elements\n",
    "print(letters[5:])         # 6th to last elements\n",
    "print(letters[:])          # 1st to last elements\n",
    "print(letters[::-1])       # reversing a list\n",
    "print()\n",
    "\n",
    "A = np.array([[1, 4, 5, 12, 14], \n",
    "    [-5, 8, 9, 0, 17],\n",
    "    [-6, 7, 11, 19, 21]])\n",
    "\n",
    "print(A[:2, :4])   # two rows, four columns\n",
    "print(A[:1,])      # first row, all columns\n",
    "print(A[:,2])      # all rows, second column\n",
    "print(A[:, 2:5])   # all rows, third to fifth column\n"
   ]
  },
  {
   "cell_type": "code",
   "execution_count": null,
   "metadata": {},
   "outputs": [],
   "source": [
    "#2) For A = [1 2 3; 4 5 6; 1 1 3], answer the following questions:\n",
    "#Use numpy.array for creating A so that you can use slicing indices.\n",
    "A = np.array([[1,2,3], \n",
    "              [4,5,6],\n",
    "              [1,1,3]])\n",
    "\n",
    "#a) Let aij be the element of ith row and jth column of A. Find a23.\n",
    "print(\"a : \",A[1][2]) #3rd element of 2nd row\n",
    "\n",
    "#b) Find 3rd row of A.\n",
    "print(\"\\nb : \",A[2])\n",
    "\n",
    "#c) Find 2nd column of A.\n",
    "print(\"\\nc : \",A[:,1])\n",
    "\n",
    "#d) Find the transpose of A.\n",
    "print(\"\\nd : \\n\",A.transpose())\n",
    "\n",
    "#e) Find the number of independent rows or columns of A.\n",
    "#Use numphy function of numpy.linalg.matrix_rank(A)\n",
    "print(\"\\ne : \",np.linalg.matrix_rank(A))\n",
    "\n",
    "#f) Find the inverse of A.\n",
    "print(\"\\nf : \\n\",np.linalg.inv(A))\n",
    "\n",
    "#i) Find the sum of the diagonal elements of A.\n",
    "print(\"\\ni : \",np.trace(A))\n",
    "#j) Find the determinant of A.\n",
    "print(\"\\nj : \",np.linalg.det(A))\n",
    "#k) Find the adjoint matrix of A and the inverse matrix of A using (j).\n",
    "print(\"\\nk : adjoint matrix of A\\n\",np.linalg.det(A)*np.linalg.inv(A))\n",
    "print(\"\\nk : inverse matrix of A \\n\",np.linalg.inv(A))"
   ]
  },
  {
   "cell_type": "code",
   "execution_count": null,
   "metadata": {},
   "outputs": [],
   "source": [
    "delx = 0.1\n",
    "\n",
    "t = np.arange(0, 2.1, delx)\n",
    "a = [0, 9.05, 16.37, 22.22, 26.81, 30.33, 32.93, 34.76, 35.95, 36.59, 36.79, 36.62, 36.14, 35.43, 34.52, 33.47, 32.30, 31.06, 29.75, 28.42, 27.07]\n",
    "v = delx*np.cumsum(a)\n",
    "d = delx*np.cumsum(v)\n",
    "plt.title('red: velocity, blue: displacement')\n",
    "plt.plot(t, v, '-r', t, d, '-b')\n"
   ]
  },
  {
   "cell_type": "code",
   "execution_count": 33,
   "metadata": {},
   "outputs": [
    {
     "data": {
      "text/plain": [
       "1.6094379124341003"
      ]
     },
     "execution_count": 33,
     "metadata": {},
     "output_type": "execute_result"
    }
   ],
   "source": [
    "x=5\n",
    "np.log(5)"
   ]
  },
  {
   "cell_type": "code",
   "execution_count": 35,
   "metadata": {},
   "outputs": [
    {
     "name": "stdout",
     "output_type": "stream",
     "text": [
      "[[ 0.14285714  0.28571429]\n",
      " [ 0.28571429 -0.42857143]]\n",
      "3)  x=    y=   z=\n",
      " [3. 2.]\n"
     ]
    }
   ],
   "source": [
    "#3) Find the solution of the following linear equations.\n",
    "\n",
    "#2x-3y+z = 1\n",
    "#4x-y+2z=3\n",
    "#5x-2y+3z=-2\n",
    "\n",
    "B = np.array([[3,2],[2,-1]])\n",
    "\n",
    "inv_B = np.linalg.inv(B)\n",
    "print(inv_B)\n",
    "C =np.array([13,4])\n",
    "\n",
    "X = inv_B.dot(C)\n",
    "\n",
    "print(\"3)  x=    y=   z=\\n\",X)\n"
   ]
  },
  {
   "cell_type": "code",
   "execution_count": 18,
   "metadata": {},
   "outputs": [
    {
     "ename": "TypeError",
     "evalue": "'DeprecatedImportModule' object is not callable",
     "output_type": "error",
     "traceback": [
      "\u001b[0;31m---------------------------------------------------------------------------\u001b[0m",
      "\u001b[0;31mTypeError\u001b[0m                                 Traceback (most recent call last)",
      "\u001b[0;32m<ipython-input-18-cfeb3f182d3a>\u001b[0m in \u001b[0;36m<module>\u001b[0;34m\u001b[0m\n\u001b[0;32m----> 1\u001b[0;31m \u001b[0mt\u001b[0m \u001b[0;34m=\u001b[0m \u001b[0marray\u001b[0m\u001b[0;34m(\u001b[0m\u001b[0mnp\u001b[0m\u001b[0;34m.\u001b[0m\u001b[0marange\u001b[0m\u001b[0;34m(\u001b[0m\u001b[0;36m0\u001b[0m\u001b[0;34m,\u001b[0m \u001b[0;36m3\u001b[0m\u001b[0;34m,\u001b[0m \u001b[0;36m0.001\u001b[0m\u001b[0;34m)\u001b[0m\u001b[0;34m)\u001b[0m\u001b[0;34m\u001b[0m\u001b[0;34m\u001b[0m\u001b[0m\n\u001b[0m\u001b[1;32m      2\u001b[0m \u001b[0mm\u001b[0m \u001b[0;34m=\u001b[0m \u001b[0mnp\u001b[0m\u001b[0;34m.\u001b[0m\u001b[0mones\u001b[0m\u001b[0;34m(\u001b[0m\u001b[0mlen\u001b[0m\u001b[0;34m(\u001b[0m\u001b[0mt\u001b[0m\u001b[0;34m)\u001b[0m\u001b[0;34m)\u001b[0m\u001b[0;34m\u001b[0m\u001b[0;34m\u001b[0m\u001b[0m\n\u001b[1;32m      3\u001b[0m \u001b[0;34m\u001b[0m\u001b[0m\n\u001b[1;32m      4\u001b[0m \u001b[0mphasor1\u001b[0m \u001b[0;34m=\u001b[0m \u001b[0mm\u001b[0m \u001b[0;34m*\u001b[0m \u001b[0mnp\u001b[0m\u001b[0;34m.\u001b[0m\u001b[0mexp\u001b[0m\u001b[0;34m(\u001b[0m\u001b[0;36m1j\u001b[0m\u001b[0;34m*\u001b[0m\u001b[0;36m2\u001b[0m\u001b[0;34m*\u001b[0m\u001b[0mpi\u001b[0m\u001b[0;34m*\u001b[0m\u001b[0mt\u001b[0m\u001b[0;34m)\u001b[0m\u001b[0;34m\u001b[0m\u001b[0;34m\u001b[0m\u001b[0m\n\u001b[1;32m      5\u001b[0m \u001b[0mphasor2\u001b[0m \u001b[0;34m=\u001b[0m \u001b[0;34m(\u001b[0m\u001b[0;36m2\u001b[0m\u001b[0;34m*\u001b[0m\u001b[0mm\u001b[0m\u001b[0;34m)\u001b[0m \u001b[0;34m*\u001b[0m \u001b[0mnp\u001b[0m\u001b[0;34m.\u001b[0m\u001b[0mexp\u001b[0m\u001b[0;34m(\u001b[0m\u001b[0;36m1j\u001b[0m\u001b[0;34m*\u001b[0m\u001b[0;36m2\u001b[0m\u001b[0;34m*\u001b[0m\u001b[0mpi\u001b[0m\u001b[0;34m*\u001b[0m\u001b[0;36m4\u001b[0m\u001b[0;34m*\u001b[0m\u001b[0mt\u001b[0m\u001b[0;34m)\u001b[0m\u001b[0;34m\u001b[0m\u001b[0;34m\u001b[0m\u001b[0m\n",
      "\u001b[0;31mTypeError\u001b[0m: 'DeprecatedImportModule' object is not callable"
     ]
    }
   ],
   "source": [
    "t = array(np.arange(0, 3, 0.001))\n",
    "m = np.ones(len(t))\n",
    "\n",
    "phasor1 = m * np.exp(1j*2*pi*t)\n",
    "phasor2 = (2*m) * np.exp(1j*2*pi*4*t)\n",
    "\n",
    "print(phasor1*phasor2)"
   ]
  },
  {
   "cell_type": "code",
   "execution_count": null,
   "metadata": {},
   "outputs": [],
   "source": [
    "# Vector is an one dimensional array\n",
    "import numpy as np\n",
    "\n",
    "x = np.array([3,1/2,2])   # vector x\n",
    "y = np.array([2,2,1])   # vector y\n",
    "\n",
    "print(x + y)            # vector addition\n",
    "print(x - y)            # vector subtraction\n",
    "dot = np.dot(x, y)      # vectot dot product\n",
    "print(dot)     # vectot dot product\n",
    "\n",
    "x_norm = np.sqrt((x*x).sum()) # magnitude of x\n",
    "y_norm = np.linalg.norm(y)    # magnitude of y\n",
    "print(x_norm, y_norm)\n",
    "cos_angle = dot / (x_norm * y_norm) # cosine of angle between x and y\n",
    "angle = np.arccos(cos_angle)\n",
    "function1 = [10, 0, 0, 0, 0]\n",
    "y1 = np.poly1d(function1) # 4*x**4 \n",
    "\n",
    "print(y1)"
   ]
  },
  {
   "cell_type": "code",
   "execution_count": 49,
   "metadata": {},
   "outputs": [
    {
     "name": "stdout",
     "output_type": "stream",
     "text": [
      "Projection of Vector u on Vector v is:  [ 9.42857143 -3.14285714  4.71428571]\n"
     ]
    }
   ],
   "source": [
    "u = np.array([7,-7,7])   # vector x\n",
    "v = np.array([-6,2,-3])   # vector y\n",
    "  \n",
    "# Task: Project vector u on vector v \n",
    "  \n",
    "# finding norm of the vector v \n",
    "v_norm = np.sqrt(sum(v**2))     \n",
    "  \n",
    "# Apply the formula as mentioned above \n",
    "# for projecting a vector onto another vector \n",
    "# find dot product using np.dot() \n",
    "proj_of_u_on_v = (np.dot(u, v)/v_norm**2)*v \n",
    "  \n",
    "print(\"Projection of Vector u on Vector v is: \", proj_of_u_on_v) \n"
   ]
  },
  {
   "cell_type": "code",
   "execution_count": 43,
   "metadata": {},
   "outputs": [
    {
     "name": "stdout",
     "output_type": "stream",
     "text": [
      "14.000000000000004\n"
     ]
    }
   ],
   "source": [
    "A =np.array( [[2, 0],[3, 7]])\n",
    "\n",
    "print(np.linalg.det(A))\n"
   ]
  },
  {
   "cell_type": "code",
   "execution_count": 44,
   "metadata": {},
   "outputs": [],
   "source": [
    "A=np.array([[cos(pi/3) ,-sin(pi/3)],\n",
    "           [sin(pi/3), cos(pi/3)]])"
   ]
  },
  {
   "cell_type": "code",
   "execution_count": 47,
   "metadata": {},
   "outputs": [
    {
     "name": "stdout",
     "output_type": "stream",
     "text": [
      "[[ 4  0]\n",
      " [15 35]]\n"
     ]
    }
   ],
   "source": [
    "B=np.array([[2,0],[0,5]])\n",
    "A =np.array( [[2, 0],[3, 7]])\n",
    "C=B.dot(A)\n",
    "print(C)"
   ]
  },
  {
   "cell_type": "code",
   "execution_count": null,
   "metadata": {},
   "outputs": [],
   "source": [
    "[[1,0],[0,-1]]"
   ]
  }
 ],
 "metadata": {
  "kernelspec": {
   "display_name": "Python 3",
   "language": "python",
   "name": "python3"
  },
  "language_info": {
   "codemirror_mode": {
    "name": "ipython",
    "version": 3
   },
   "file_extension": ".py",
   "mimetype": "text/x-python",
   "name": "python",
   "nbconvert_exporter": "python",
   "pygments_lexer": "ipython3",
   "version": "3.8.5"
  }
 },
 "nbformat": 4,
 "nbformat_minor": 4
}
