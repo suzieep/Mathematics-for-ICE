{
 "cells": [
  {
   "cell_type": "markdown",
   "metadata": {},
   "source": [
    "# Matrix Creation"
   ]
  },
  {
   "cell_type": "code",
   "execution_count": 2,
   "metadata": {},
   "outputs": [
    {
     "name": "stdout",
     "output_type": "stream",
     "text": [
      "A = [[1, 4, 5, 12], [-5, 8, 9, 0], [-6, 7, 11, 19]]\n",
      "A[1] = [-5, 8, 9, 0]\n",
      "A[1][2] = 9\n",
      "A[0][-1] = 12\n",
      "3rd column = [5, 9, 11]\n"
     ]
    }
   ],
   "source": [
    "A = [[1, 4, 5, 12], \n",
    "    [-5, 8, 9, 0],\n",
    "    [-6, 7, 11, 19]]\n",
    "\n",
    "print(\"A =\", A) \n",
    "print(\"A[1] =\", A[1])            # 2nd row\n",
    "print(\"A[1][2] =\", A[1][2])      # 3rd element of 2nd row\n",
    "print(\"A[0][-1] =\", A[0][-1])    # Last element of 1st Row\n",
    "\n",
    "column = [];                     # empty list\n",
    "for row in A:\n",
    "  column.append(row[2])   \n",
    "\n",
    "print(\"3rd column =\", column)"
   ]
  },
  {
   "cell_type": "markdown",
   "metadata": {},
   "source": [
    "# Numpy Matrix Creation"
   ]
  },
  {
   "cell_type": "code",
   "execution_count": 7,
   "metadata": {},
   "outputs": [
    {
     "name": "stdout",
     "output_type": "stream",
     "text": [
      "[[1 2 3]\n",
      " [3 4 5]]\n",
      "[[1.1 2.  3. ]\n",
      " [3.  4.  5. ]]\n",
      "[[1.+0.j         2.+0.j         3.+0.j        ]\n",
      " [3.+1.j         4.+1.41421356j 5.+0.j        ]]\n",
      "[[0. 0. 0.]\n",
      " [0. 0. 0.]]\n",
      "[[1 1 1 1 1]]\n"
     ]
    }
   ],
   "source": [
    "import numpy as np\n",
    "\n",
    "A = np.array([[1, 2, 3], [3, 4, 5]])\n",
    "print(A)\n",
    "\n",
    "A = np.array([[1.1, 2, 3], [3, 4, 5]]) # Array of floats\n",
    "print(A)\n",
    "\n",
    "A = np.array([[1, 2, 3], [3+1j, 4+1j*np.sqrt(2), 5]], dtype = complex) # Array of complex numbers\n",
    "print(A)\n",
    "\n",
    "zeors_array = np.zeros( (2, 3) )\n",
    "print(zeors_array)\n",
    "\n",
    "ones_array = np.ones( (1, 5), dtype=np.int32 ) # specifying dtype\n",
    "print(ones_array)"
   ]
  },
  {
   "cell_type": "markdown",
   "metadata": {},
   "source": [
    "# Numpy Matrix Operations"
   ]
  },
  {
   "cell_type": "code",
   "execution_count": 14,
   "metadata": {},
   "outputs": [
    {
     "name": "stdout",
     "output_type": "stream",
     "text": [
      "[[11  1]\n",
      " [ 8  0]]\n",
      "[[ -7   7]\n",
      " [  2 -12]]\n",
      "[[ 36 -12]\n",
      " [ -1   2]]\n"
     ]
    }
   ],
   "source": [
    "import numpy as np\n",
    "\n",
    "A = np.array([[2, 4], [5, -6]])\n",
    "B = np.array([[9, -3], [3, 6]])\n",
    "C = A + B      # element wise addition\n",
    "D = A - B      # element wise subtraction\n",
    "print(C)\n",
    "print(D)\n",
    "\n",
    "A = np.array([[3, 6, 7], [5, -3, 0]])\n",
    "B = np.array([[1, 1], [2, 1], [3, -3]])\n",
    "C = A.dot(B)   # matrix multiplication\n",
    "print(C)\n",
    "\n",
    "A = np.array([[1, 1], [2, 1], [3, -3]])\n",
    "print(A.transpose())"
   ]
  },
  {
   "cell_type": "markdown",
   "metadata": {},
   "source": [
    "# Access matrix elements, rows and columns"
   ]
  },
  {
   "cell_type": "code",
   "execution_count": 20,
   "metadata": {},
   "outputs": [
    {
     "name": "stdout",
     "output_type": "stream",
     "text": [
      "A[0] = 2\n",
      "A[2] = 6\n",
      "A[-1] = 10\n",
      "A[0][0] = 1\n",
      "A[1][2] = 9\n",
      "A[-1][-1] = 19\n",
      "A[0] = [ 1  4  5 12]\n",
      "A[2] = [-6  7 11 19]\n",
      "A[-1] = [-6  7 11 19]\n",
      "A[:,0] = [ 1 -5 -6]\n",
      "A[:,3] = [12  0 19]\n",
      "A[:,-1] = [12  0 19]\n"
     ]
    }
   ],
   "source": [
    "import numpy as np\n",
    "\n",
    "A = np.array([2, 4, 6, 8, 10])\n",
    "\n",
    "print(\"A[0] =\", A[0])     # First element     \n",
    "print(\"A[2] =\", A[2])     # Third element \n",
    "print(\"A[-1] =\", A[-1])   # Last element  \n",
    "\n",
    "A = np.array([[1, 4, 5, 12],\n",
    "    [-5, 8, 9, 0],\n",
    "    [-6, 7, 11, 19]])\n",
    "\n",
    "print(\"A[0][0] =\", A[0][0])     #  First element of first row\n",
    "print(\"A[1][2] =\", A[1][2])     # Third element of second row\n",
    "print(\"A[-1][-1] =\", A[-1][-1]) # Last element of last row\n",
    "\n",
    "print(\"A[0] =\", A[0])    # First Row\n",
    "print(\"A[2] =\", A[2])    # Third Row\n",
    "print(\"A[-1] =\", A[-1])  # Last Row (3rd row in this case)\n",
    "\n",
    "print(\"A[:,0] =\",A[:,0])    # First Column\n",
    "print(\"A[:,3] =\", A[:,3])   # Fourth Column\n",
    "print(\"A[:,-1] =\", A[:,-1]) # Last Column (4th column in this case)\n"
   ]
  },
  {
   "cell_type": "markdown",
   "metadata": {},
   "source": [
    "# Slicing of a Matrix"
   ]
  },
  {
   "cell_type": "code",
   "execution_count": 23,
   "metadata": {},
   "outputs": [
    {
     "name": "stdout",
     "output_type": "stream",
     "text": [
      "[5 7 9]\n",
      "[1 3]\n",
      "[7 5]\n",
      "[1 3 5 7 9 7 5]\n",
      "[5 7 9 7 5 3 1]\n",
      "\n",
      "[[ 1  4  5 12]\n",
      " [-5  8  9  0]]\n",
      "[[ 1  4  5 12 14]]\n",
      "[ 5  9 11]\n",
      "[[ 5 12 14]\n",
      " [ 9  0 17]\n",
      " [11 19 21]]\n"
     ]
    }
   ],
   "source": [
    "import numpy as np\n",
    "\n",
    "letters = np.array([1, 3, 5, 7, 9, 7, 5])\n",
    "\n",
    "print(letters[2:5])        # 3rd to 5th elements\n",
    "print(letters[:-5])        # 1st to (last-5)th elements\n",
    "print(letters[5:])         # 6th to last elements\n",
    "print(letters[:])          # 1st to last elements\n",
    "print(letters[::-1])       # reversing a list\n",
    "print()\n",
    "\n",
    "A = np.array([[1, 4, 5, 12, 14], \n",
    "    [-5, 8, 9, 0, 17],\n",
    "    [-6, 7, 11, 19, 21]])\n",
    "\n",
    "print(A[:2, :4])   # two rows, four columns\n",
    "print(A[:1,])      # first row, all columns\n",
    "print(A[:,2])      # all rows, second column\n",
    "print(A[:, 2:5])   # all rows, third to fifth column\n"
   ]
  },
  {
   "cell_type": "markdown",
   "metadata": {},
   "source": [
    "# Matrix Determinant"
   ]
  },
  {
   "cell_type": "code",
   "execution_count": 27,
   "metadata": {
    "scrolled": true
   },
   "outputs": [
    {
     "name": "stdout",
     "output_type": "stream",
     "text": [
      "-2.0000000000000004\n",
      "(3, 2, 2)\n",
      "[-2. -3. -8.]\n"
     ]
    }
   ],
   "source": [
    "import numpy as np\n",
    "\n",
    "a = np.array([[1, 2], [3, 4]])\n",
    "print(np.linalg.det(a))\n",
    "\n",
    "a = np.array([ [[1, 2], [3, 4]], [[1, 2], [2, 1]], [[1, 3], [3, 1]] ])\n",
    "print(a.shape)\n",
    "print(np.linalg.det(a))"
   ]
  },
  {
   "cell_type": "markdown",
   "metadata": {},
   "source": [
    "# Matrix Inverse"
   ]
  },
  {
   "cell_type": "code",
   "execution_count": 35,
   "metadata": {},
   "outputs": [
    {
     "name": "stdout",
     "output_type": "stream",
     "text": [
      "[[-2.   1. ]\n",
      " [ 1.5 -0.5]]\n",
      "(2, 2, 2)\n",
      "[[[-2.    1.  ]\n",
      "  [ 1.5  -0.5 ]]\n",
      "\n",
      " [[-1.25  0.75]\n",
      "  [ 0.75 -0.25]]]\n"
     ]
    }
   ],
   "source": [
    "import numpy as np\n",
    "\n",
    "a = np.array([[1., 2.], [3., 4.]])\n",
    "ainv = np.linalg.inv(a)\n",
    "print(ainv)\n",
    "\n",
    "a = np.array([[[1., 2.], [3., 4.]], [[1, 3], [3, 5]]])\n",
    "print(a.shape)\n",
    "ainv = np.linalg.inv(a)\n",
    "print(ainv)"
   ]
  },
  {
   "cell_type": "markdown",
   "metadata": {},
   "source": [
    "# Matrix Reshape"
   ]
  },
  {
   "cell_type": "code",
   "execution_count": 45,
   "metadata": {},
   "outputs": [
    {
     "name": "stdout",
     "output_type": "stream",
     "text": [
      "[[0 1]\n",
      " [2 3]\n",
      " [4 5]]\n",
      "[0 1 2 3 4 5]\n",
      "[0 2 4 1 3 5]\n",
      "\n",
      "[[0 1 2]\n",
      " [3 4 5]]\n",
      "C-like reshape =  [[0 1 2]\n",
      " [3 4 5]]\n",
      "F-like reshape =  [[0 4 3]\n",
      " [2 1 5]]\n",
      "[[0 4 3]\n",
      " [2 1 5]]\n"
     ]
    }
   ],
   "source": [
    "a = np.arange(6).reshape((3, 2))\n",
    "print(a)\n",
    "print(np.ravel(a, order='C'))\n",
    "print(np.ravel(a, order='F'))\n",
    "print()\n",
    "print(np.reshape(a, (2, 3)))                                    # C-like index ordering\n",
    "print('C-like reshape = ', np.reshape(np.ravel(a), (2, 3)))     # equivalent to C ravel then C reshape\n",
    "print('F-like reshape = ', np.reshape(a, (2, 3), order='F'))    # Fortran-like index ordering\n",
    "print(np.reshape(np.ravel(a, order='F'), (2, 3), order='F'))"
   ]
  }
 ],
 "metadata": {
  "kernelspec": {
   "display_name": "Python 3",
   "language": "python",
   "name": "python3"
  },
  "language_info": {
   "codemirror_mode": {
    "name": "ipython",
    "version": 3
   },
   "file_extension": ".py",
   "mimetype": "text/x-python",
   "name": "python",
   "nbconvert_exporter": "python",
   "pygments_lexer": "ipython3",
   "version": "3.8.5"
  }
 },
 "nbformat": 4,
 "nbformat_minor": 2
}
