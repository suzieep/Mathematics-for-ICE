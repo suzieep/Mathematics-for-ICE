{
 "cells": [
  {
   "cell_type": "markdown",
   "metadata": {},
   "source": [
    "# Compute"
   ]
  },
  {
   "cell_type": "code",
   "execution_count": 4,
   "metadata": {},
   "outputs": [
    {
     "data": {
      "text/plain": [
       "7"
      ]
     },
     "execution_count": 4,
     "metadata": {},
     "output_type": "execute_result"
    }
   ],
   "source": [
    "2 + 5"
   ]
  },
  {
   "cell_type": "markdown",
   "metadata": {},
   "source": [
    "# Print Statement: "
   ]
  },
  {
   "cell_type": "code",
   "execution_count": 5,
   "metadata": {},
   "outputs": [
    {
     "name": "stdout",
     "output_type": "stream",
     "text": [
      "Hello World!\n"
     ]
    }
   ],
   "source": [
    "print(\"Hello World!\")"
   ]
  },
  {
   "cell_type": "markdown",
   "metadata": {},
   "source": [
    "# Variable Declarations"
   ]
  },
  {
   "cell_type": "code",
   "execution_count": 1,
   "metadata": {},
   "outputs": [
    {
     "name": "stdout",
     "output_type": "stream",
     "text": [
      "Student ID = 23567 Rate = 5.784 Name is Donald Trump Description is  \n",
      "Multiple\n",
      "Lines\n",
      "\n"
     ]
    }
   ],
   "source": [
    "studentID = 23567\n",
    "rate = 5.784\n",
    "Sensed = True\n",
    "Name = \"Donald Trump\"\n",
    "Description = \"\"\"\n",
    "Multiple\n",
    "Lines\n",
    "\"\"\"\n",
    "\n",
    "print(\"Student ID =\", studentID, \"Rate =\", rate, \"Name is\",  Name, \"Description is \", Description)\n"
   ]
  },
  {
   "cell_type": "markdown",
   "metadata": {},
   "source": [
    "# Print Variable Type"
   ]
  },
  {
   "cell_type": "code",
   "execution_count": 2,
   "metadata": {},
   "outputs": [
    {
     "name": "stdout",
     "output_type": "stream",
     "text": [
      "<class 'int'> <class 'float'> <class 'bool'> <class 'str'>\n"
     ]
    }
   ],
   "source": [
    "print(type(studentID), type(rate), type(Sensed), type(Name))"
   ]
  },
  {
   "cell_type": "markdown",
   "metadata": {},
   "source": [
    "# Variable Type Declaration"
   ]
  },
  {
   "cell_type": "code",
   "execution_count": 3,
   "metadata": {},
   "outputs": [
    {
     "data": {
      "text/plain": [
       "35"
      ]
     },
     "execution_count": 3,
     "metadata": {},
     "output_type": "execute_result"
    }
   ],
   "source": [
    "age: int = 35\n",
    "\n",
    "age"
   ]
  },
  {
   "cell_type": "markdown",
   "metadata": {},
   "source": [
    "# Immutability of Variables"
   ]
  },
  {
   "cell_type": "code",
   "execution_count": 4,
   "metadata": {},
   "outputs": [
    {
     "name": "stdout",
     "output_type": "stream",
     "text": [
      "140729537246640\n",
      "140729537246672\n"
     ]
    }
   ],
   "source": [
    "x = 20\n",
    "\n",
    "print(id(x))\n",
    "\n",
    "x = x + 1\n",
    "\n",
    "print(id(x))"
   ]
  },
  {
   "cell_type": "markdown",
   "metadata": {},
   "source": [
    "# Immutability of List"
   ]
  },
  {
   "cell_type": "code",
   "execution_count": 2,
   "metadata": {},
   "outputs": [
    {
     "name": "stdout",
     "output_type": "stream",
     "text": [
      "2410567051080\n",
      "2410567051080\n"
     ]
    },
    {
     "data": {
      "text/plain": [
       "[1, 2, 3, 4]"
      ]
     },
     "execution_count": 2,
     "metadata": {},
     "output_type": "execute_result"
    }
   ],
   "source": [
    "y = [1, 2, 3]\n",
    "print(id(y))\n",
    "y.append(4)\n",
    "print(id(y))\n",
    "y"
   ]
  },
  {
   "cell_type": "markdown",
   "metadata": {},
   "source": [
    "# Indexing String"
   ]
  },
  {
   "cell_type": "code",
   "execution_count": 5,
   "metadata": {},
   "outputs": [
    {
     "name": "stdout",
     "output_type": "stream",
     "text": [
      "ice length is  41\n",
      "ice[0] is I\n",
      "ice[-2] is  n\n",
      "ice[1:5]) is  nfor\n",
      "ice[:5] is Infor\n",
      "ice[0:] is Information and Communication Engineering\n",
      "ice[:] is Information and Communication Engineering\n",
      "2410564035664\n",
      "2410524935032\n"
     ]
    }
   ],
   "source": [
    "ice = \"Information and Communication Engineering\"\n",
    "print(\"ice length is \", len(ice))\n",
    "print(\"ice[0] is\", ice[0])\n",
    "print(\"ice[-2] is \", ice[-2])\n",
    "print(\"ice[1:5]) is \", ice[1:5])\n",
    "print(\"ice[:5] is\", ice[:5])\n",
    "print(\"ice[0:] is\", ice[0:])\n",
    "print(\"ice[:] is\", ice[:])\n",
    "print(id(ice))\n",
    "print(id(ice[0]))"
   ]
  },
  {
   "cell_type": "markdown",
   "metadata": {},
   "source": [
    "# Escape Character"
   ]
  },
  {
   "cell_type": "code",
   "execution_count": 6,
   "metadata": {},
   "outputs": [
    {
     "name": "stdout",
     "output_type": "stream",
     "text": [
      "Information\n",
      " \"and'\n",
      " \\Communication\n",
      " Engineering\n"
     ]
    }
   ],
   "source": [
    "print(\"Information\\n \\\"and\\'\\n \\\\Communication\\n Engineering\")"
   ]
  },
  {
   "cell_type": "markdown",
   "metadata": {},
   "source": [
    "# Print Formatting"
   ]
  },
  {
   "cell_type": "code",
   "execution_count": 10,
   "metadata": {},
   "outputs": [
    {
     "name": "stdout",
     "output_type": "stream",
     "text": [
      "The current president of USA is Donald Trump.\n",
      "Trump, Donald\n"
     ]
    }
   ],
   "source": [
    "firstname = \"Donald\"\n",
    "lastname = \"Trump\"\n",
    "print(f'The current president of USA is {firstname} {lastname}.')\n",
    "fullname = f\"{lastname}, {firstname}\"\n",
    "print(fullname)"
   ]
  },
  {
   "cell_type": "markdown",
   "metadata": {},
   "source": [
    "# Manupulating Strings"
   ]
  },
  {
   "cell_type": "code",
   "execution_count": 25,
   "metadata": {},
   "outputs": [
    {
     "name": "stdout",
     "output_type": "stream",
     "text": [
      "11\n",
      "3\n",
      "0\n",
      "['Hello', 'World']\n",
      "True\n",
      "False\n",
      "Goodbye World\n",
      "HELLO WORLD\n",
      "hello world\n",
      "Hello World***Hello World\n"
     ]
    }
   ],
   "source": [
    "word = \"Hello World\"\n",
    "print(len(word))\n",
    "print(word.count('l'))\n",
    "print(word.find(\"H\"))\n",
    "print(word.split(' '))\n",
    "print(word.startswith(\"H\"))\n",
    "print(word.endswith(\"w\"))\n",
    "print(word.replace(\"Hello\", \"Goodbye\"))\n",
    "print(word.upper())\n",
    "print(word.lower())\n",
    "print(word + \"***\" + word)"
   ]
  },
  {
   "cell_type": "markdown",
   "metadata": {},
   "source": [
    "# Binary and Hex Numbers"
   ]
  },
  {
   "cell_type": "code",
   "execution_count": 26,
   "metadata": {},
   "outputs": [
    {
     "name": "stdout",
     "output_type": "stream",
     "text": [
      "10\n",
      "0b1010\n",
      "0xa\n",
      "0b1010\n",
      "(3+3j)\n"
     ]
    }
   ],
   "source": [
    "x = 10\n",
    "y = 0b1010\n",
    "z = 0xa\n",
    "v = 3 + 3j\n",
    "\n",
    "print(x)\n",
    "print(bin(y))\n",
    "print(hex(z))\n",
    "print(bin(x))\n",
    "print(v)"
   ]
  },
  {
   "cell_type": "markdown",
   "metadata": {},
   "source": [
    "# Built-In Functions"
   ]
  },
  {
   "cell_type": "code",
   "execution_count": 67,
   "metadata": {},
   "outputs": [
    {
     "name": "stdout",
     "output_type": "stream",
     "text": [
      "2.5\n",
      "\n",
      "\n",
      " False\n",
      "a string True\n",
      "0 False\n",
      "1 True\n",
      "False False\n",
      "True True\n",
      "None False\n",
      "[] False\n",
      "[0] True\n",
      "{} False\n",
      "{'x': ''} True\n",
      "\n",
      "\n",
      "b is  0b1010 and its type is <class 'str'>\n",
      "7\n",
      "A\n",
      "65\n",
      "(4+2j)\n",
      "(4-2j)\n",
      "{'x': 10, 'y': 15, 'hello': 'goodbye'} {'x': 'hello', 'y': 15, 'hello': 'goodbye', 'z': 30}\n",
      "3.0 1.7500000000000009\n",
      "[(0, 'joseph'), (1, 'jordanne'), (2, 'luke'), (3, 'trevor')]\n",
      "9\n",
      "5\n"
     ]
    }
   ],
   "source": [
    "print(abs(-2.5))\n",
    "\n",
    "print(\"\\n\")\n",
    "items = [\"\", \"a string\", 0, 1, False, True, None, [], [0], {}, {\"x\": \"\"}]\n",
    "for i in items:\n",
    "    print(i, bool(i))\n",
    "print(\"\\n\")\n",
    "\n",
    "b = bin(10)\n",
    "print(\"b is \", b, \"and its type is\", type(b))\n",
    "\n",
    "h = bytearray(b\"Hello, world!\")\n",
    "print(h.find(b'w'))\n",
    "\n",
    "print(chr(65))\n",
    "print(ord('A'))\n",
    "\n",
    "print(complex(4, 2))\n",
    "print(complex(\"4-2j\"))\n",
    "\n",
    "mydict = dict(x=10, y=15, hello=\"goodbye\")\n",
    "newdict = dict(mydict, z=30, x=\"hello\")\n",
    "print(mydict, newdict)\n",
    "\n",
    "q,r = divmod(15.64, 4.63)\n",
    "print(q, r)\n",
    "\n",
    "people = [\"joseph\", \"jordanne\", \"luke\", \"trevor\"]\n",
    "print(list(enumerate(people)))\n",
    "\n",
    "print(eval('3*3'))\n",
    "exec('print(5)')"
   ]
  },
  {
   "cell_type": "code",
   "execution_count": 86,
   "metadata": {},
   "outputs": [
    {
     "name": "stdout",
     "output_type": "stream",
     "text": [
      "10.0\n",
      "True\n",
      "nan\n",
      "nan\n"
     ]
    }
   ],
   "source": [
    "x = \"10\"\n",
    "print(float(x))\n",
    "pinf = float(\"+inf\")\n",
    "ninf = float(\"-inf\")\n",
    "print(ninf <= float(x) <= pinf)\n",
    "nan = float(\"nan\")\n",
    "print(nan + 1)\n",
    "print(sum((1,2,3, nan)))"
   ]
  },
  {
   "cell_type": "code",
   "execution_count": 92,
   "metadata": {},
   "outputs": [
    {
     "name": "stdout",
     "output_type": "stream",
     "text": [
      "100.2500\n",
      "{0, 1, 2, 3, 4}\n",
      "frozenset({0, 1, 2, 3})\n",
      "True\n",
      "False\n"
     ]
    }
   ],
   "source": [
    "print(format(100.25, \".4f\"))\n",
    "\n",
    "mylist = [0,1,2,3]\n",
    "myset = set(mylist)\n",
    "myset.add(4)\n",
    "print(myset)\n",
    "\n",
    "myfrozenset = frozenset(mylist)\n",
    "print(myfrozenset)\n",
    "\n",
    "print(3 in myset)\n",
    "print(10 in myfrozenset)"
   ]
  },
  {
   "cell_type": "code",
   "execution_count": 106,
   "metadata": {},
   "outputs": [
    {
     "name": "stdout",
     "output_type": "stream",
     "text": [
      "3\n",
      "2.5\n",
      "\n",
      "\n",
      "3\n",
      "5\n",
      "7\n",
      "9\n"
     ]
    }
   ],
   "source": [
    "PI = 3.14159\n",
    "print(round(PI))\n",
    "print(abs(-2.5))\n",
    "print(\"\\n\")\n",
    "x = range(3, 10, 2)\n",
    "for n in x:\n",
    "  print(n)"
   ]
  },
  {
   "cell_type": "markdown",
   "metadata": {},
   "source": [
    "# If then else Statement"
   ]
  },
  {
   "cell_type": "code",
   "execution_count": 130,
   "metadata": {},
   "outputs": [
    {
     "name": "stdout",
     "output_type": "stream",
     "text": [
      "3 - Got a true expression value\n",
      "100\n",
      "Full\n"
     ]
    }
   ],
   "source": [
    "var = 100\n",
    "if var == 200:\n",
    "   print(\"1 - Got a true expression value\")\n",
    "   print(var)\n",
    "elif var == 150:\n",
    "   pass\n",
    "elif var == 100:\n",
    "   print(\"3 - Got a true expression value\")\n",
    "   print(var)\n",
    "else:\n",
    "   print(\"4 - Got a true expression value\")\n",
    "   print(var)\n",
    "    \n",
    "message = \"Full\" if var >= 100 else \"Empty\"\n",
    "print(message)"
   ]
  },
  {
   "cell_type": "markdown",
   "metadata": {},
   "source": [
    "# Input Statement"
   ]
  },
  {
   "cell_type": "code",
   "execution_count": 101,
   "metadata": {},
   "outputs": [
    {
     "name": "stdout",
     "output_type": "stream",
     "text": [
      "x: 345\n",
      "<class 'str'> 345 345 345.0 True\n"
     ]
    }
   ],
   "source": [
    "x = input(\"x: \")\n",
    "print(type(x), x, int(x), float(x), bool(x))"
   ]
  },
  {
   "cell_type": "markdown",
   "metadata": {},
   "source": [
    "# For Statement"
   ]
  },
  {
   "cell_type": "code",
   "execution_count": 123,
   "metadata": {},
   "outputs": [
    {
     "name": "stdout",
     "output_type": "stream",
     "text": [
      "range(15, 20, 2) <class 'range'>\n",
      "[15, 17, 19]\n",
      "15\n",
      "17\n",
      "19\n",
      "Hello\n",
      "World\n",
      "!\n",
      "x 10\n",
      "y 15\n",
      "hello goodbye\n",
      "(0, 1)\n",
      "(1, 5)\n",
      "(2, 7)\n",
      "(3, 33)\n",
      "(4, 39)\n",
      "(5, 52)\n"
     ]
    }
   ],
   "source": [
    "x = range(15, 20, 2)\n",
    "print(x, type(x))\n",
    "print(list(x))\n",
    "for n in x:\n",
    "  print(n)\n",
    "\n",
    "y = [\"Hello\", \"World\", \"!\"] # list\n",
    "for n in y:\n",
    "  print(n)\n",
    "\n",
    "z = {'x': 10, 'y': 15, 'hello': 'goodbye'} # dict\n",
    "for key, val in z.items(): # z -> key, z.values() ->value\n",
    "  print(key, val)\n",
    "\n",
    "t = (1, 5, 7, 33, 39, 52) #tuple\n",
    "for p in enumerate(t):\n",
    "    print(p)"
   ]
  },
  {
   "cell_type": "markdown",
   "metadata": {},
   "source": [
    "# While Loop"
   ]
  },
  {
   "cell_type": "code",
   "execution_count": 127,
   "metadata": {},
   "outputs": [
    {
     "name": "stdout",
     "output_type": "stream",
     "text": [
      "1\n",
      "2\n",
      "3\n",
      "\n",
      "\n",
      "1\n",
      "2\n",
      "4\n",
      "5\n",
      "6\n",
      "\n",
      "\n",
      "This number = 1\n",
      "This number = 2\n",
      "This number = 3\n",
      "This number = 4\n",
      "This number = 5\n",
      "Breaking out of the loop\n"
     ]
    }
   ],
   "source": [
    "i = 1\n",
    "while i < 6:\n",
    "  print(i)\n",
    "  if i == 3:\n",
    "    break\n",
    "  i += 1\n",
    "print(\"\\n\")\n",
    "i = 0\n",
    "while i < 6:\n",
    "  i += 1 \n",
    "  if i == 3:\n",
    "    continue\n",
    "  print(i)\n",
    "print(\"\\n\")\n"
   ]
  },
  {
   "cell_type": "markdown",
   "metadata": {},
   "source": [
    "# Function Definition and Call"
   ]
  },
  {
   "cell_type": "code",
   "execution_count": 138,
   "metadata": {},
   "outputs": [
    {
     "name": "stdout",
     "output_type": "stream",
     "text": [
      "Output is: \n",
      "10\n",
      "Output is: \n",
      "70\n",
      "60\n",
      "50\n",
      "\n",
      "\n",
      "a =  six\n",
      "b =  five\n",
      "k = x, val = seven\n",
      "k = next, val = four\n",
      "k = last, val = three\n"
     ]
    }
   ],
   "source": [
    "def printinfo( arg1 = 5, *vartuple ): # 5 is a default value, *vartuple is a variable length input params\n",
    "   \"This prints a variable passed arguments\"\n",
    "   print(\"Output is: \")\n",
    "   print(arg1)\n",
    "   for var in vartuple:\n",
    "      print(var)\n",
    "   return;\n",
    "\n",
    "# Now you can call printinfo function\n",
    "printinfo( 10 )\n",
    "printinfo( 70, 60, 50 )\n",
    "print(\"\\n\")\n",
    "def printargs(a,b,**dict): # **dict input params\n",
    "    print('a = ', a)\n",
    "    print('b = ', b)\n",
    "    for k in dict.keys():\n",
    "        print(f'k = {k}, val = {dict[k]}')\n",
    "    return\n",
    "\n",
    "printargs(x='seven',a='six',b='five',next='four',last='three')"
   ]
  }
 ],
 "metadata": {
  "kernelspec": {
   "display_name": "Python 3",
   "language": "python",
   "name": "python3"
  },
  "language_info": {
   "codemirror_mode": {
    "name": "ipython",
    "version": 3
   },
   "file_extension": ".py",
   "mimetype": "text/x-python",
   "name": "python",
   "nbconvert_exporter": "python",
   "pygments_lexer": "ipython3",
   "version": "3.7.6"
  }
 },
 "nbformat": 4,
 "nbformat_minor": 2
}
