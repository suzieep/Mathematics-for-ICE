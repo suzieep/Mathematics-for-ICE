{
 "cells": [
  {
   "cell_type": "code",
   "execution_count": 1,
   "metadata": {},
   "outputs": [
    {
     "name": "stdout",
     "output_type": "stream",
     "text": [
      "Enter First number: 3.7\n",
      "Enter Second number 2.5\n",
      "Sum of  3.7 and 2.5 is : 6.2\n",
      "Difference of  3.7 and 2.5 is : 1.2000000000000002\n",
      "Product of 3.7 and 2.5 is : 9.25\n",
      "Division of  3.7 and 2.5 is : 1.48\n",
      "Floor Division of  3.7 and 2.5 is : 1.0\n",
      "Exponent of  3.7 and 2.5 is : 26.333240780428074\n",
      "Modulus of  3.7 and 2.5 is : 1.2000000000000002\n"
     ]
    }
   ],
   "source": [
    "num1 = float(input('Enter First number: '))\n",
    "num2 = float(input('Enter Second number '))\n",
    "add = num1 + num2\n",
    "dif = num1 - num2\n",
    "mul = num1 * num2\n",
    "div = num1 / num2\n",
    "floor_div = num1 // num2\n",
    "power = num1 ** num2\n",
    "modulus = num1 % num2\n",
    "print('Sum of ',num1 ,'and' ,num2 ,'is :',add)\n",
    "print('Difference of ',num1 ,'and' ,num2 ,'is :',dif)\n",
    "print('Product of' ,num1 ,'and' ,num2 ,'is :',mul)\n",
    "print('Division of ',num1 ,'and' ,num2 ,'is :',div)\n",
    "print('Floor Division of ',num1 ,'and' ,num2 ,'is :',floor_div)\n",
    "print('Exponent of ',num1 ,'and' ,num2 ,'is :',power)\n",
    "print('Modulus of ',num1 ,'and' ,num2 ,'is :',modulus)"
   ]
  },
  {
   "cell_type": "markdown",
   "metadata": {},
   "source": [
    "# Mathematical Functions\n",
    "ceil(x)\tReturns the smallest integer greater than or equal to x.\n",
    "<br>\n",
    "floor(x)\tReturns the largest integer less than or equal to x\n",
    "\n",
    "fmod(x, y)\tReturns the remainder when x is divided by y\n",
    "<br>\n",
    "fsum(iterable)\tReturns an accurate floating point sum of values in the iterable\n",
    "\n",
    "isfinite(x)\tReturns True if x is neither an infinity nor a NaN (Not a Number)\n",
    "<br>\n",
    "isinf(x)\tReturns True if x is a positive or negative infinity\n",
    "<br>\n",
    "isnan(x)\tReturns True if x is a NaN\n",
    "\n",
    "exp(x)\tReturns e**x\n",
    "\n",
    "log(x) Returns the base-e logarithm of x\n",
    "<br>\n",
    "log2(x)\tReturns the base-2 logarithm of x\n",
    "<br>\n",
    "log10(x)\tReturns the base-10 logarithm of x\n",
    "\n",
    "pow(x, y)\tReturns x raised to the power y\n",
    "<br>\n",
    "sqrt(x)\tReturns the square root of x\n",
    "\n",
    "acos(x)\tReturns the arc cosine of x\n",
    "<br>\n",
    "asin(x)\tReturns the arc sine of x\n",
    "<br>\n",
    "atan(x)\tReturns the arc tangent of x\n",
    "<br>\n",
    "atan2(y, x)\tReturns atan(y / x)\n",
    "<br>\n",
    "cos(x)\tReturns the cosine of x\n",
    "<br>\n",
    "hypot(x, y)\tReturns the Euclidean norm, sqrt(x*x + y*y)\n",
    "<br>\n",
    "sin(x)\tReturns the sine of x\n",
    "<br>\n",
    "tan(x)\tReturns the tangent of x\n",
    "\n",
    "degrees(x)\tConverts angle x from radians to degrees\n",
    "<br>\n",
    "radians(x)\tConverts angle x from degrees to radians\n",
    "\n",
    "acosh(x)\tReturns the inverse hyperbolic cosine of x\n",
    "<br>\n",
    "asinh(x)\tReturns the inverse hyperbolic sine of x\n",
    "<br>\n",
    "atanh(x)\tReturns the inverse hyperbolic tangent of x\n",
    "<br>\n",
    "cosh(x)\tReturns the hyperbolic cosine of x\n",
    "<br>\n",
    "sinh(x)\tReturns the hyperbolic cosine of x\n",
    "<br>\n",
    "tanh(x)\tReturns the hyperbolic tangent of x\n",
    "\n",
    "pi\tMathematical constant, the ratio of circumference of a circle to it's diameter (3.14159...)\n",
    "<br>\n",
    "e\tmathematical constant e (2.71828...)"
   ]
  },
  {
   "cell_type": "code",
   "execution_count": 3,
   "metadata": {},
   "outputs": [
    {
     "name": "stdout",
     "output_type": "stream",
     "text": [
      "1.0\n",
      "1.0000050000069649e-05\n",
      "1.0\n",
      "2.0\n",
      "1000.0\n",
      "1.4142135623730951\n",
      "1.2246467991473532e-16\n",
      "-1.0\n",
      "0.9999999999999999\n"
     ]
    }
   ],
   "source": [
    "from math import fsum, exp, log, log10, e, pow, sqrt, sin, cos, tan, pi\n",
    "\n",
    "print(fsum([.1, .1, .1, .1, .1, .1, .1, .1, .1, .1]))\n",
    "print(exp(1e-5) - 1)\n",
    "print(log(e))\n",
    "print(log10(100))\n",
    "print(pow(10, 3))\n",
    "print(sqrt(2))\n",
    "print(sin(pi))\n",
    "print(cos(pi))\n",
    "print(tan(pi/4.0))"
   ]
  },
  {
   "cell_type": "markdown",
   "metadata": {},
   "source": [
    "# Plotting Mathematical Functions"
   ]
  },
  {
   "cell_type": "code",
   "execution_count": 4,
   "metadata": {},
   "outputs": [
    {
     "data": {
      "image/png": "[encoded data removed]",
      "text/plain": [
       "<Figure size 432x288 with 1 Axes>"
      ]
     },
     "metadata": {
      "needs_background": "light"
     },
     "output_type": "display_data"
    }
   ],
   "source": [
    "import numpy as np\n",
    "import matplotlib.pyplot as plt\n",
    "\n",
    "evals = np.arange(-2.5, 2.5, 0.01)\n",
    "lvals = np.arange(0.01, 2.5, 0.01)\n",
    "yexp = np.exp(evals)\n",
    "ylog = np.log(lvals)\n",
    "\n",
    "plt.plot(evals, yexp, '-.b')\n",
    "plt.plot(lvals, ylog, ':y*')\n",
    "plt.title('exp:black, log:yellow')\n",
    "plt.xlabel('Input')\n",
    "plt.ylabel('Function values')\n",
    "plt.axis([-pi, pi, -10, 10])\n",
    "plt.grid()\n",
    "plt.show()"
   ]
  },
  {
   "cell_type": "code",
   "execution_count": null,
   "metadata": {},
   "outputs": [],
   "source": []
  }
 ],
 "metadata": {
  "kernelspec": {
   "display_name": "Python 3",
   "language": "python",
   "name": "python3"
  },
  "language_info": {
   "codemirror_mode": {
    "name": "ipython",
    "version": 3
   },
   "file_extension": ".py",
   "mimetype": "text/x-python",
   "name": "python",
   "nbconvert_exporter": "python",
   "pygments_lexer": "ipython3",
   "version": "3.8.5"
  }
 },
 "nbformat": 4,
 "nbformat_minor": 2
}
