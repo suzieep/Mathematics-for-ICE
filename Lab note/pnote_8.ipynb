{
 "cells": [
  {
   "cell_type": "markdown",
   "metadata": {},
   "source": [
    "# Vector is an one dimensional array"
   ]
  },
  {
   "cell_type": "code",
   "execution_count": 16,
   "metadata": {},
   "outputs": [
    {
     "name": "stdout",
     "output_type": "stream",
     "text": [
      "[8 9 3]\n",
      "[-6  1  1]\n",
      "29\n",
      "5.477225575051661 8.12403840463596\n",
      "49.32809804971241\n"
     ]
    }
   ],
   "source": [
    "import numpy as np\n",
    "\n",
    "x = np.array([1,5,2])   # vector x\n",
    "y = np.array([7,4,1])   # vector y\n",
    "\n",
    "print(x + y)            # vector addition\n",
    "print(x - y)            # vector subtraction\n",
    "dot = np.dot(x, y)      # vectot dot product\n",
    "print(dot)     # vectot dot product\n",
    "\n",
    "x_norm = np.sqrt((x*x).sum()) # magnitude of x\n",
    "y_norm = np.linalg.norm(y)    # magnitude of y\n",
    "print(x_norm, y_norm)\n",
    "cos_angle = dot / (x_norm * y_norm) # cosine of angle between x and y\n",
    "angle = np.arccos(cos_angle)\n",
    "print(math.degrees(angle))"
   ]
  }
 ],
 "metadata": {
  "kernelspec": {
   "display_name": "Python 3",
   "language": "python",
   "name": "python3"
  },
  "language_info": {
   "codemirror_mode": {
    "name": "ipython",
    "version": 3
   },
   "file_extension": ".py",
   "mimetype": "text/x-python",
   "name": "python",
   "nbconvert_exporter": "python",
   "pygments_lexer": "ipython3",
   "version": "3.7.1"
  }
 },
 "nbformat": 4,
 "nbformat_minor": 2
}
