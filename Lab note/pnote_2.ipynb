{
 "cells": [
  {
   "cell_type": "markdown",
   "metadata": {},
   "source": [
    "# range(start, stop, end)\n",
    "  This is a versatile function to create lists containing arithmetic progressions. It is most often used in for loops. The arguments must be plain integers. If the step argument is omitted, it defaults to 1. If the start argument is omitted, it defaults to 0. The full form returns a list of plain integers [start, start + step, start + 2 * step, ...]. If step is positive, the last element is the largest start + i * step ess than stop; if step is negative, the last element is the smallest start + i * step greater than stop. step must not be zero (or else ValueError is raised). \n",
    "\n",
    "range() function only works with the integers i.e., whole numbers."
   ]
  },
  {
   "cell_type": "code",
   "execution_count": 46,
   "metadata": {},
   "outputs": [
    {
     "name": "stdout",
     "output_type": "stream",
     "text": [
      "<class 'range'> range(0, 5)\n",
      "0\n",
      "1\n",
      "2\n",
      "3\n",
      "4\n",
      "[20, 15, 10]\n"
     ]
    }
   ],
   "source": [
    "xlist = range(0, 5, 1)\n",
    "print(type(xlist), xlist)\n",
    "\n",
    "for i in xlist:\n",
    "    print(i)\n",
    "\n",
    "print(list(range(20, 5, -5)))"
   ]
  },
  {
   "cell_type": "markdown",
   "metadata": {},
   "source": [
    "# arange([start,] stop[, step,], dtype=None)\n",
    "Return evenly spaced values within a given interval. Values are generated within the half-open interval ``[start, stop)``\n",
    "(in other words, the interval including `start` but excluding `stop`)."
   ]
  },
  {
   "cell_type": "code",
   "execution_count": 50,
   "metadata": {},
   "outputs": [
    {
     "name": "stdout",
     "output_type": "stream",
     "text": [
      "[-2.00000000e+00 -1.90000000e+00 -1.80000000e+00 -1.70000000e+00\n",
      " -1.60000000e+00 -1.50000000e+00 -1.40000000e+00 -1.30000000e+00\n",
      " -1.20000000e+00 -1.10000000e+00 -1.00000000e+00 -9.00000000e-01\n",
      " -8.00000000e-01 -7.00000000e-01 -6.00000000e-01 -5.00000000e-01\n",
      " -4.00000000e-01 -3.00000000e-01 -2.00000000e-01 -1.00000000e-01\n",
      "  1.77635684e-15  1.00000000e-01  2.00000000e-01  3.00000000e-01\n",
      "  4.00000000e-01  5.00000000e-01  6.00000000e-01  7.00000000e-01\n",
      "  8.00000000e-01  9.00000000e-01]\n"
     ]
    }
   ],
   "source": [
    "import numpy as np\n",
    "\n",
    "xvals = np.arange(-2, 1, 0.1)\n",
    "print(xvals)"
   ]
  },
  {
   "cell_type": "markdown",
   "metadata": {},
   "source": [
    "# linspace(start, stop, num=50, endpoint=True, retstep=False, dtype=None)\n",
    "Returns num evenly spaced samples, calculated over the interval [start, stop]. The endpoint of the interval can optionally be excluded."
   ]
  },
  {
   "cell_type": "code",
   "execution_count": 2,
   "metadata": {},
   "outputs": [
    {
     "name": "stdout",
     "output_type": "stream",
     "text": [
      "[2.   2.25 2.5  2.75 3.  ]\n",
      "[2.  2.2 2.4 2.6 2.8]\n",
      "(array([2.  , 2.25, 2.5 , 2.75, 3.  ]), 0.25)\n"
     ]
    }
   ],
   "source": [
    "import numpy as np\n",
    "\n",
    "print(np.linspace(2.0, 3.0, num=5))\n",
    "print(np.linspace(2.0, 3.0, num=5, endpoint=False))\n",
    "print(np.linspace(2.0, 3.0, num=5, retstep=True))"
   ]
  },
  {
   "cell_type": "markdown",
   "metadata": {},
   "source": [
    "# Polynomial Functions\n",
    "np.poly1d, np.polyval, np.roots"
   ]
  },
  {
   "cell_type": "code",
   "execution_count": 43,
   "metadata": {},
   "outputs": [
    {
     "name": "stdout",
     "output_type": "stream",
     "text": [
      "139\n",
      "139\n",
      "139\n",
      "[151.794 482.162 643.152]\n",
      "[ 0.70710678 -0.70710678]\n",
      "[5.09432376+0.j         4.4006681 +1.43502848j 4.4006681 -1.43502848j]\n"
     ]
    }
   ],
   "source": [
    "import numpy as np\n",
    "\n",
    "x = 3\n",
    "print(4*x**3 + 3*x**2 -2*x + 10)\n",
    "\n",
    "ppar = [4, 3, -2, 10]\n",
    "p = np.poly1d(ppar) # 4*x**3 + 3*x**2 -2*x + 10\n",
    "\n",
    "print(p(3))\n",
    "print(np.polyval(ppar, 3))\n",
    "print(np.polyval(ppar, [3.1, 4.7, 5.2]))\n",
    "\n",
    "print(np.roots([2, 0, -1])) # roots of 2*x**2 -1\n",
    "\n",
    "# Find roots of f(V)= V**3 - ((p*n*b+n*R*T)/p)*V**2 + (n**2*a/p)*V - (n**3*a*b/p)\n",
    "# numerical values of the constants\n",
    "a = 3.49e4\n",
    "b = 1.45\n",
    "p = 679.7   # pressure in psi\n",
    "T = 683     # T in Rankine\n",
    "n = 1.136   # lb-moles\n",
    "R = 10.73   # ft^3 * psi /R / lb-mol\n",
    "\n",
    "ppar = [1.0, -(p*n*b+n*R*T)/p, n**2*a/p,  -n**3*a*b/p];\n",
    "print(np.roots(ppar))"
   ]
  },
  {
   "cell_type": "markdown",
   "metadata": {},
   "source": [
    "# Polynomial Arithmetic\n",
    "polyadd, polysub, polymul, polydiv, np.polyder, np.polyint"
   ]
  },
  {
   "cell_type": "code",
   "execution_count": 44,
   "metadata": {},
   "outputs": [
    {
     "name": "stdout",
     "output_type": "stream",
     "text": [
      "[ 4  5 -2  9] [ -4  -1   2 -11] [  8   6  -8  17   2 -10] [2.  1.5] [11.5]\n",
      " \n",
      "4 x\n",
      "16\n",
      "        3\n",
      "0.6667 x - 1 x\n",
      "35.33333333333333\n"
     ]
    }
   ],
   "source": [
    "import numpy as np\n",
    "\n",
    "f1 = [4, 3, -2, 10]\n",
    "f2 = [2, 0, -1]\n",
    "a = np.polyadd(f1, f2)\n",
    "s = np.polysub(f2, f1)\n",
    "m = np.polymul(f1, f2)\n",
    "q, r = np.polydiv(f1, f2) #f1/f2\n",
    "print(a, s, m, q ,r)\n",
    "\n",
    "p = np.poly1d([2, 0, -1])\n",
    "p2 = np.polyder(p)\n",
    "print(p2)\n",
    "print(p2(4))\n",
    "\n",
    "p3 = np.polyint(p)\n",
    "print(p3)\n",
    "print(p3(4) - p3(2))"
   ]
  },
  {
   "cell_type": "markdown",
   "metadata": {},
   "source": [
    "# Plotting Polynomial Functions Using Matplotlib\n",
    "plot line specification\n",
    "'-'\tsolid line style\n",
    "'--' dashed line style\n",
    "'-.' dash-dot line style\n",
    "'o'\tcircle marker\n",
    "'s'\tsquare marker\n",
    "'*'\tstar marker\n",
    "‘b’\tblue\n",
    "‘g’\tgreen\n",
    "‘r’\tred\n",
    "‘k’\tblack"
   ]
  },
  {
   "cell_type": "code",
   "execution_count": 68,
   "metadata": {},
   "outputs": [
    {
     "data": {
      "image/png": "[encoded data removed]",
      "text/plain": [
       "<Figure size 432x288 with 1 Axes>"
      ]
     },
     "metadata": {
      "needs_background": "light"
     },
     "output_type": "display_data"
    }
   ],
   "source": [
    "import numpy as np\n",
    "import matplotlib.pyplot as plt\n",
    "\n",
    "ppar = [4, 3, -2, 10]\n",
    "p = np.poly1d(ppar) # 4*x**3 + 3*x**2 -2*x + 10\n",
    "\n",
    "xvals = np.arange(-2, 2, 0.01)\n",
    "yvals = np.polyval(ppar, xvals)\n",
    "\n",
    "plt.plot(xvals, yvals, '-.k') # dash-dot black line spec\n",
    "ycos = np.cos(xvals)\n",
    "plt.plot(xvals, ycos, 'r')\n",
    "plt.title('Example plots')\n",
    "plt.xlabel('Input')\n",
    "plt.ylabel('Function values')\n",
    "plt.axis([-2.0, 2.0, -10, 20])\n",
    "plt.grid()\n",
    "plt.show()"
   ]
  }
 ],
 "metadata": {
  "kernelspec": {
   "display_name": "Python 3",
   "language": "python",
   "name": "python3"
  },
  "language_info": {
   "codemirror_mode": {
    "name": "ipython",
    "version": 3
   },
   "file_extension": ".py",
   "mimetype": "text/x-python",
   "name": "python",
   "nbconvert_exporter": "python",
   "pygments_lexer": "ipython3",
   "version": "3.7.1"
  }
 },
 "nbformat": 4,
 "nbformat_minor": 2
}
