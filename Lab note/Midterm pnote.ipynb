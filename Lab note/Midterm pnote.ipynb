{
 "cells": [
  {
   "cell_type": "markdown",
   "metadata": {},
   "source": [
    "# Compute"
   ]
  },
  {
   "cell_type": "code",
   "execution_count": 20,
   "metadata": {},
   "outputs": [
    {
     "data": {
      "text/plain": [
       "7"
      ]
     },
     "execution_count": 20,
     "metadata": {},
     "output_type": "execute_result"
    }
   ],
   "source": [
    "2 + 5"
   ]
  },
  {
   "cell_type": "markdown",
   "metadata": {},
   "source": [
    "# Print Statement: "
   ]
  },
  {
   "cell_type": "code",
   "execution_count": 21,
   "metadata": {},
   "outputs": [
    {
     "name": "stdout",
     "output_type": "stream",
     "text": [
      "Hello World!\n"
     ]
    }
   ],
   "source": [
    "print(\"Hello World!\")"
   ]
  },
  {
   "cell_type": "markdown",
   "metadata": {},
   "source": [
    "# Variable Declarations"
   ]
  },
  {
   "cell_type": "code",
   "execution_count": 22,
   "metadata": {},
   "outputs": [
    {
     "name": "stdout",
     "output_type": "stream",
     "text": [
      "Student ID = 23567 Rate = 5.784 Name is Donald Trump Description is  \n",
      "Multiple\n",
      "Lines\n",
      "\n"
     ]
    }
   ],
   "source": [
    "studentID = 23567\n",
    "rate = 5.784\n",
    "Sensed = True\n",
    "Name = \"Donald Trump\"\n",
    "Description = \"\"\"\n",
    "Multiple\n",
    "Lines\n",
    "\"\"\"\n",
    "\n",
    "print(\"Student ID =\", studentID, \"Rate =\", rate, \"Name is\",  Name, \"Description is \", Description)\n"
   ]
  },
  {
   "cell_type": "markdown",
   "metadata": {},
   "source": [
    "# Print Variable Type"
   ]
  },
  {
   "cell_type": "code",
   "execution_count": 23,
   "metadata": {},
   "outputs": [
    {
     "name": "stdout",
     "output_type": "stream",
     "text": [
      "<class 'int'> <class 'float'> <class 'bool'> <class 'str'>\n"
     ]
    }
   ],
   "source": [
    "print(type(studentID), type(rate), type(Sensed), type(Name))"
   ]
  },
  {
   "cell_type": "markdown",
   "metadata": {},
   "source": [
    "# Variable Type Declaration"
   ]
  },
  {
   "cell_type": "code",
   "execution_count": 24,
   "metadata": {},
   "outputs": [
    {
     "data": {
      "text/plain": [
       "35"
      ]
     },
     "execution_count": 24,
     "metadata": {},
     "output_type": "execute_result"
    }
   ],
   "source": [
    "age: int = 35\n",
    "\n",
    "age"
   ]
  },
  {
   "cell_type": "markdown",
   "metadata": {},
   "source": [
    "# Immutability of Variables"
   ]
  },
  {
   "cell_type": "code",
   "execution_count": 25,
   "metadata": {},
   "outputs": [
    {
     "name": "stdout",
     "output_type": "stream",
     "text": [
      "4496514192\n",
      "4496514224\n"
     ]
    }
   ],
   "source": [
    "x = 20\n",
    "\n",
    "print(id(x))\n",
    "\n",
    "x = x + 1\n",
    "\n",
    "print(id(x))"
   ]
  },
  {
   "cell_type": "markdown",
   "metadata": {},
   "source": [
    "# Immutability of List"
   ]
  },
  {
   "cell_type": "code",
   "execution_count": 26,
   "metadata": {},
   "outputs": [
    {
     "name": "stdout",
     "output_type": "stream",
     "text": [
      "4529393536\n",
      "4529393536\n"
     ]
    },
    {
     "data": {
      "text/plain": [
       "[1, 2, 3, 4]"
      ]
     },
     "execution_count": 26,
     "metadata": {},
     "output_type": "execute_result"
    }
   ],
   "source": [
    "y = [1, 2, 3]\n",
    "print(id(y))\n",
    "y.append(4)\n",
    "print(id(y))\n",
    "y"
   ]
  },
  {
   "cell_type": "markdown",
   "metadata": {},
   "source": [
    "# Indexing String"
   ]
  },
  {
   "cell_type": "code",
   "execution_count": 27,
   "metadata": {},
   "outputs": [
    {
     "name": "stdout",
     "output_type": "stream",
     "text": [
      "ice length is  41\n",
      "ice[0] is I\n",
      "ice[-2] is  n\n",
      "ice[1:5]) is  nfor\n",
      "ice[:5] is Infor\n",
      "ice[0:] is Information and Communication Engineering\n",
      "ice[:] is Information and Communication Engineering\n",
      "4530111184\n",
      "4498508400\n"
     ]
    }
   ],
   "source": [
    "ice = \"Information and Communication Engineering\"\n",
    "print(\"ice length is \", len(ice))\n",
    "print(\"ice[0] is\", ice[0])\n",
    "print(\"ice[-2] is \", ice[-2])\n",
    "print(\"ice[1:5]) is \", ice[1:5])\n",
    "print(\"ice[:5] is\", ice[:5])\n",
    "print(\"ice[0:] is\", ice[0:])\n",
    "print(\"ice[:] is\", ice[:])\n",
    "print(id(ice))\n",
    "print(id(ice[0]))"
   ]
  },
  {
   "cell_type": "markdown",
   "metadata": {},
   "source": [
    "# Escape Character"
   ]
  },
  {
   "cell_type": "code",
   "execution_count": 28,
   "metadata": {},
   "outputs": [
    {
     "name": "stdout",
     "output_type": "stream",
     "text": [
      "Information\n",
      " \"and'\n",
      " \\Communication\n",
      " Engineering\n"
     ]
    }
   ],
   "source": [
    "print(\"Information\\n \\\"and\\'\\n \\\\Communication\\n Engineering\")"
   ]
  },
  {
   "cell_type": "markdown",
   "metadata": {},
   "source": [
    "# Print Formatting"
   ]
  },
  {
   "cell_type": "code",
   "execution_count": 29,
   "metadata": {},
   "outputs": [
    {
     "name": "stdout",
     "output_type": "stream",
     "text": [
      "The current president of USA is Donald Trump.\n",
      "Trump, Donald\n"
     ]
    }
   ],
   "source": [
    "firstname = \"Donald\"\n",
    "lastname = \"Trump\"\n",
    "print(f'The current president of USA is {firstname} {lastname}.')\n",
    "fullname = f\"{lastname}, {firstname}\"\n",
    "print(fullname)"
   ]
  },
  {
   "cell_type": "markdown",
   "metadata": {},
   "source": [
    "# Manupulating Strings"
   ]
  },
  {
   "cell_type": "code",
   "execution_count": 30,
   "metadata": {},
   "outputs": [
    {
     "name": "stdout",
     "output_type": "stream",
     "text": [
      "11\n",
      "3\n",
      "0\n",
      "['Hello', 'World']\n",
      "True\n",
      "False\n",
      "Goodbye World\n",
      "HELLO WORLD\n",
      "hello world\n",
      "Hello World***Hello World\n"
     ]
    }
   ],
   "source": [
    "word = \"Hello World\"\n",
    "print(len(word))\n",
    "print(word.count('l'))\n",
    "print(word.find(\"H\"))\n",
    "print(word.split(' '))\n",
    "print(word.startswith(\"H\"))\n",
    "print(word.endswith(\"w\"))\n",
    "print(word.replace(\"Hello\", \"Goodbye\"))\n",
    "print(word.upper())\n",
    "print(word.lower())\n",
    "print(word + \"***\" + word)"
   ]
  },
  {
   "cell_type": "markdown",
   "metadata": {},
   "source": [
    "# Binary and Hex Numbers"
   ]
  },
  {
   "cell_type": "code",
   "execution_count": 31,
   "metadata": {},
   "outputs": [
    {
     "name": "stdout",
     "output_type": "stream",
     "text": [
      "10\n",
      "0b1010\n",
      "0xa\n",
      "0b1010\n",
      "(3+3j)\n"
     ]
    }
   ],
   "source": [
    "x = 10\n",
    "y = 0b1010\n",
    "z = 0xa\n",
    "v = 3 + 3j\n",
    "\n",
    "print(x)\n",
    "print(bin(y))\n",
    "print(hex(z))\n",
    "print(bin(x))\n",
    "print(v)"
   ]
  },
  {
   "cell_type": "markdown",
   "metadata": {},
   "source": [
    "# Built-In Functions"
   ]
  },
  {
   "cell_type": "code",
   "execution_count": 32,
   "metadata": {},
   "outputs": [
    {
     "name": "stdout",
     "output_type": "stream",
     "text": [
      "2.5\n",
      "\n",
      "\n",
      " False\n",
      "a string True\n",
      "0 False\n",
      "1 True\n",
      "False False\n",
      "True True\n",
      "None False\n",
      "[] False\n",
      "[0] True\n",
      "{} False\n",
      "{'x': ''} True\n",
      "\n",
      "\n",
      "b is  0b1010 and its type is <class 'str'>\n",
      "7\n",
      "A\n",
      "65\n",
      "(4+2j)\n",
      "(4-2j)\n",
      "{'x': 10, 'y': 15, 'hello': 'goodbye'} {'x': 'hello', 'y': 15, 'hello': 'goodbye', 'z': 30}\n",
      "3.0 1.7500000000000009\n",
      "[(0, 'joseph'), (1, 'jordanne'), (2, 'luke'), (3, 'trevor')]\n",
      "9\n",
      "5\n"
     ]
    }
   ],
   "source": [
    "print(abs(-2.5))\n",
    "\n",
    "print(\"\\n\")\n",
    "items = [\"\", \"a string\", 0, 1, False, True, None, [], [0], {}, {\"x\": \"\"}]\n",
    "for i in items:\n",
    "    print(i, bool(i))\n",
    "print(\"\\n\")\n",
    "\n",
    "b = bin(10)\n",
    "print(\"b is \", b, \"and its type is\", type(b))\n",
    "\n",
    "h = bytearray(b\"Hello, world!\")\n",
    "print(h.find(b'w'))\n",
    "\n",
    "print(chr(65))\n",
    "print(ord('A'))\n",
    "\n",
    "print(complex(4, 2))\n",
    "print(complex(\"4-2j\"))\n",
    "\n",
    "mydict = dict(x=10, y=15, hello=\"goodbye\")\n",
    "newdict = dict(mydict, z=30, x=\"hello\")\n",
    "print(mydict, newdict)\n",
    "\n",
    "q,r = divmod(15.64, 4.63)\n",
    "print(q, r)\n",
    "\n",
    "people = [\"joseph\", \"jordanne\", \"luke\", \"trevor\"]\n",
    "print(list(enumerate(people)))\n",
    "\n",
    "print(eval('3*3'))\n",
    "exec('print(5)')"
   ]
  },
  {
   "cell_type": "code",
   "execution_count": 33,
   "metadata": {},
   "outputs": [
    {
     "name": "stdout",
     "output_type": "stream",
     "text": [
      "10.0\n",
      "True\n",
      "nan\n",
      "nan\n"
     ]
    }
   ],
   "source": [
    "x = \"10\"\n",
    "print(float(x))\n",
    "pinf = float(\"+inf\")\n",
    "ninf = float(\"-inf\")\n",
    "print(ninf <= float(x) <= pinf)\n",
    "nan = float(\"nan\")\n",
    "print(nan + 1)\n",
    "print(sum((1,2,3, nan)))"
   ]
  },
  {
   "cell_type": "code",
   "execution_count": 34,
   "metadata": {},
   "outputs": [
    {
     "name": "stdout",
     "output_type": "stream",
     "text": [
      "100.2500\n",
      "{0, 1, 2, 3, 4}\n",
      "frozenset({0, 1, 2, 3})\n",
      "True\n",
      "False\n"
     ]
    }
   ],
   "source": [
    "print(format(100.25, \".4f\"))\n",
    "\n",
    "mylist = [0,1,2,3]\n",
    "myset = set(mylist)\n",
    "myset.add(4)\n",
    "print(myset)\n",
    "\n",
    "myfrozenset = frozenset(mylist)\n",
    "print(myfrozenset)\n",
    "\n",
    "print(3 in myset)\n",
    "print(10 in myfrozenset)"
   ]
  },
  {
   "cell_type": "code",
   "execution_count": 35,
   "metadata": {},
   "outputs": [
    {
     "name": "stdout",
     "output_type": "stream",
     "text": [
      "3\n",
      "2.5\n",
      "\n",
      "\n",
      "3\n",
      "5\n",
      "7\n",
      "9\n"
     ]
    }
   ],
   "source": [
    "PI = 3.14159\n",
    "print(round(PI))\n",
    "print(abs(-2.5))\n",
    "print(\"\\n\")\n",
    "x = range(3, 10, 2)\n",
    "for n in x:\n",
    "  print(n)"
   ]
  },
  {
   "cell_type": "markdown",
   "metadata": {},
   "source": [
    "# If then else Statement"
   ]
  },
  {
   "cell_type": "code",
   "execution_count": 36,
   "metadata": {},
   "outputs": [
    {
     "name": "stdout",
     "output_type": "stream",
     "text": [
      "3 - Got a true expression value\n",
      "100\n",
      "Full\n"
     ]
    }
   ],
   "source": [
    "var = 100\n",
    "if var == 200:\n",
    "   print(\"1 - Got a true expression value\")\n",
    "   print(var)\n",
    "elif var == 150:\n",
    "   pass\n",
    "elif var == 100:\n",
    "   print(\"3 - Got a true expression value\")\n",
    "   print(var)\n",
    "else:\n",
    "   print(\"4 - Got a true expression value\")\n",
    "   print(var)\n",
    "    \n",
    "message = \"Full\" if var >= 100 else \"Empty\"\n",
    "print(message)"
   ]
  },
  {
   "cell_type": "markdown",
   "metadata": {},
   "source": [
    "# Input Statement"
   ]
  },
  {
   "cell_type": "code",
   "execution_count": 37,
   "metadata": {},
   "outputs": [
    {
     "name": "stdout",
     "output_type": "stream",
     "text": [
      "x: 5\n",
      "<class 'str'> 5 5 5.0 True\n"
     ]
    }
   ],
   "source": [
    "x = input(\"x: \")\n",
    "print(type(x), x, int(x), float(x), bool(x))"
   ]
  },
  {
   "cell_type": "markdown",
   "metadata": {},
   "source": [
    "# For Statement"
   ]
  },
  {
   "cell_type": "code",
   "execution_count": 38,
   "metadata": {},
   "outputs": [
    {
     "name": "stdout",
     "output_type": "stream",
     "text": [
      "range(15, 20, 2) <class 'range'>\n",
      "[15, 17, 19]\n",
      "15\n",
      "17\n",
      "19\n",
      "Hello\n",
      "World\n",
      "!\n",
      "x 10\n",
      "y 15\n",
      "hello goodbye\n",
      "(0, 1)\n",
      "(1, 5)\n",
      "(2, 7)\n",
      "(3, 33)\n",
      "(4, 39)\n",
      "(5, 52)\n"
     ]
    }
   ],
   "source": [
    "x = range(15, 20, 2)\n",
    "print(x, type(x))\n",
    "print(list(x))\n",
    "for n in x:\n",
    "  print(n)\n",
    "\n",
    "y = [\"Hello\", \"World\", \"!\"] # list\n",
    "for n in y:\n",
    "  print(n)\n",
    "\n",
    "z = {'x': 10, 'y': 15, 'hello': 'goodbye'} # dict\n",
    "for key, val in z.items(): # z -> key, z.values() ->value\n",
    "  print(key, val)\n",
    "\n",
    "t = (1, 5, 7, 33, 39, 52) #tuple\n",
    "for p in enumerate(t):\n",
    "    print(p)"
   ]
  },
  {
   "cell_type": "markdown",
   "metadata": {},
   "source": [
    "# While Loop"
   ]
  },
  {
   "cell_type": "code",
   "execution_count": 39,
   "metadata": {},
   "outputs": [
    {
     "name": "stdout",
     "output_type": "stream",
     "text": [
      "1\n",
      "2\n",
      "3\n",
      "\n",
      "\n",
      "1\n",
      "2\n",
      "4\n",
      "5\n",
      "6\n",
      "\n",
      "\n"
     ]
    }
   ],
   "source": [
    "i = 1\n",
    "while i < 6:\n",
    "  print(i)\n",
    "  if i == 3:\n",
    "    break\n",
    "  i += 1\n",
    "print(\"\\n\")\n",
    "i = 0\n",
    "while i < 6:\n",
    "  i += 1 \n",
    "  if i == 3:\n",
    "    continue\n",
    "  print(i)\n",
    "print(\"\\n\")\n"
   ]
  },
  {
   "cell_type": "markdown",
   "metadata": {},
   "source": [
    "# Function Definition and Call"
   ]
  },
  {
   "cell_type": "code",
   "execution_count": 40,
   "metadata": {},
   "outputs": [
    {
     "name": "stdout",
     "output_type": "stream",
     "text": [
      "Output is: \n",
      "10\n",
      "Output is: \n",
      "70\n",
      "60\n",
      "50\n",
      "\n",
      "\n",
      "a =  six\n",
      "b =  five\n",
      "k = x, val = seven\n",
      "k = next, val = four\n",
      "k = last, val = three\n"
     ]
    }
   ],
   "source": [
    "def printinfo( arg1 = 5, *vartuple ): # 5 is a default value, *vartuple is a variable length input params\n",
    "   \"This prints a variable passed arguments\"\n",
    "   print(\"Output is: \")\n",
    "   print(arg1)\n",
    "   for var in vartuple:\n",
    "      print(var)\n",
    "   return;\n",
    "\n",
    "# Now you can call printinfo function\n",
    "printinfo( 10 )\n",
    "printinfo( 70, 60, 50 )\n",
    "print(\"\\n\")\n",
    "def printargs(a,b,**dict): # **dict input params\n",
    "    print('a = ', a)\n",
    "    print('b = ', b)\n",
    "    for k in dict.keys():\n",
    "        print(f'k = {k}, val = {dict[k]}')\n",
    "    return\n",
    "\n",
    "printargs(x='seven',a='six',b='five',next='four',last='three')"
   ]
  },
  {
   "cell_type": "markdown",
   "metadata": {},
   "source": [
    "# range(start, stop, end)\n",
    "  This is a versatile function to create lists containing arithmetic progressions. It is most often used in for loops. The arguments must be plain integers. If the step argument is omitted, it defaults to 1. If the start argument is omitted, it defaults to 0. The full form returns a list of plain integers [start, start + step, start + 2 * step, ...]. If step is positive, the last element is the largest start + i * step ess than stop; if step is negative, the last element is the smallest start + i * step greater than stop. step must not be zero (or else ValueError is raised). \n",
    "\n",
    "range() function only works with the integers i.e., whole numbers."
   ]
  },
  {
   "cell_type": "code",
   "execution_count": 41,
   "metadata": {},
   "outputs": [
    {
     "name": "stdout",
     "output_type": "stream",
     "text": [
      "<class 'range'> range(0, 5)\n",
      "0\n",
      "1\n",
      "2\n",
      "3\n",
      "4\n",
      "[20, 15, 10]\n"
     ]
    }
   ],
   "source": [
    "xlist = range(0, 5, 1)\n",
    "print(type(xlist), xlist)\n",
    "\n",
    "for i in xlist:\n",
    "    print(i)\n",
    "\n",
    "print(list(range(20, 5, -5)))"
   ]
  },
  {
   "cell_type": "markdown",
   "metadata": {},
   "source": [
    "# arange([start,] stop[, step,], dtype=None)\n",
    "Return evenly spaced values within a given interval. Values are generated within the half-open interval ``[start, stop)``\n",
    "(in other words, the interval including `start` but excluding `stop`)."
   ]
  },
  {
   "cell_type": "code",
   "execution_count": 42,
   "metadata": {},
   "outputs": [
    {
     "name": "stdout",
     "output_type": "stream",
     "text": [
      "[-2.00000000e+00 -1.90000000e+00 -1.80000000e+00 -1.70000000e+00\n",
      " -1.60000000e+00 -1.50000000e+00 -1.40000000e+00 -1.30000000e+00\n",
      " -1.20000000e+00 -1.10000000e+00 -1.00000000e+00 -9.00000000e-01\n",
      " -8.00000000e-01 -7.00000000e-01 -6.00000000e-01 -5.00000000e-01\n",
      " -4.00000000e-01 -3.00000000e-01 -2.00000000e-01 -1.00000000e-01\n",
      "  1.77635684e-15  1.00000000e-01  2.00000000e-01  3.00000000e-01\n",
      "  4.00000000e-01  5.00000000e-01  6.00000000e-01  7.00000000e-01\n",
      "  8.00000000e-01  9.00000000e-01]\n"
     ]
    }
   ],
   "source": [
    "import numpy as np\n",
    "\n",
    "xvals = np.arange(-2, 1, 0.1)\n",
    "print(xvals)"
   ]
  },
  {
   "cell_type": "markdown",
   "metadata": {},
   "source": [
    "# linspace(start, stop, num=50, endpoint=True, retstep=False, dtype=None)\n",
    "Returns num evenly spaced samples, calculated over the interval [start, stop]. The endpoint of the interval can optionally be excluded."
   ]
  },
  {
   "cell_type": "code",
   "execution_count": 43,
   "metadata": {},
   "outputs": [
    {
     "name": "stdout",
     "output_type": "stream",
     "text": [
      "[2.   2.25 2.5  2.75 3.  ]\n",
      "[2.  2.2 2.4 2.6 2.8]\n",
      "(array([2.  , 2.25, 2.5 , 2.75, 3.  ]), 0.25)\n"
     ]
    }
   ],
   "source": [
    "import numpy as np\n",
    "\n",
    "print(np.linspace(2.0, 3.0, num=5))\n",
    "print(np.linspace(2.0, 3.0, num=5, endpoint=False))\n",
    "print(np.linspace(2.0, 3.0, num=5, retstep=True))"
   ]
  },
  {
   "cell_type": "markdown",
   "metadata": {},
   "source": [
    "# Polynomial Functions\n",
    "np.poly1d, np.polyval, np.roots"
   ]
  },
  {
   "cell_type": "code",
   "execution_count": 73,
   "metadata": {},
   "outputs": [
    {
     "name": "stdout",
     "output_type": "stream",
     "text": [
      "139\n",
      "139\n",
      "139\n",
      "[139.    482.162 643.152]\n",
      "[-0.70710678  0.70710678]\n",
      "[5.09432376+0.j         4.4006681 +1.43502848j 4.4006681 -1.43502848j]\n"
     ]
    }
   ],
   "source": [
    "import numpy as np\n",
    "\n",
    "x = 3\n",
    "print(4*x**3 + 3*x**2 -2*x + 10)\n",
    "\n",
    "ppar = [4, 3, -2, 10]\n",
    "p = np.poly1d(ppar) # 4*x**3 + 3*x**2 -2*x + 10\n",
    "\n",
    "print(p(3))\n",
    "print(np.polyval(ppar, 3))\n",
    "print(np.polyval(ppar, [3, 4.7, 5.2]))\n",
    "\n",
    "print(np.roots([2, 0, -1])) # roots of 2*x**2 -1\n",
    "\n",
    "# Find roots of f(V)= V**3 - ((p*n*b+n*R*T)/p)*V**2 + (n**2*a/p)*V - (n**3*a*b/p)\n",
    "# numerical values of the constants\n",
    "a = 3.49e4\n",
    "b = 1.45\n",
    "p = 679.7   # pressure in psi\n",
    "T = 683     # T in Rankine\n",
    "n = 1.136   # lb-moles\n",
    "R = 10.73   # ft^3 * psi /R / lb-mol\n",
    "\n",
    "ppar = [1.0, -(p*n*b+n*R*T)/p, n**2*a/p,  -n**3*a*b/p];\n",
    "print(np.roots(ppar))"
   ]
  },
  {
   "cell_type": "markdown",
   "metadata": {},
   "source": [
    "# Polynomial Arithmetic\n",
    "polyadd, polysub, polymul, polydiv, np.polyder, np.polyint"
   ]
  },
  {
   "cell_type": "code",
   "execution_count": 45,
   "metadata": {},
   "outputs": [
    {
     "name": "stdout",
     "output_type": "stream",
     "text": [
      "[ 4  5 -2  9] [ -4  -1   2 -11] [  8   6  -8  17   2 -10] [2.  1.5] [11.5]\n",
      " \n",
      "4 x\n",
      "16\n",
      "        3\n",
      "0.6667 x - 1 x\n",
      "35.33333333333333\n"
     ]
    }
   ],
   "source": [
    "import numpy as np\n",
    "\n",
    "f1 = [4, 3, -2, 10]\n",
    "f2 = [2, 0, -1]\n",
    "a = np.polyadd(f1, f2)\n",
    "s = np.polysub(f2, f1) # f2- f1\n",
    "m = np.polymul(f1, f2)\n",
    "q, r = np.polydiv(f1, f2) #f1/f2\n",
    "print(a, s, m, q ,r)\n",
    "\n",
    "p = np.poly1d([2, 0, -1])\n",
    "p2 = np.polyder(p)\n",
    "print(p2)\n",
    "print(p2(4))\n",
    "\n",
    "p3 = np.polyint(p)\n",
    "print(p3)\n",
    "print(p3(4) - p3(2))"
   ]
  },
  {
   "cell_type": "markdown",
   "metadata": {},
   "source": [
    "# Plotting Polynomial Functions Using Matplotlib\n",
    "plot line specification\n",
    "'-'\tsolid line style\n",
    "'--' dashed line style\n",
    "'-.' dash-dot line style\n",
    "'o'\tcircle marker\n",
    "'s'\tsquare marker\n",
    "'*'\tstar marker\n",
    "‘b’\tblue\n",
    "‘g’\tgreen\n",
    "‘r’\tred\n",
    "‘k’\tblack"
   ]
  },
  {
   "cell_type": "code",
   "execution_count": 46,
   "metadata": {},
   "outputs": [
    {
     "data": {
      "image/png": "[encoded data removed]",
      "text/plain": [
       "<Figure size 432x288 with 1 Axes>"
      ]
     },
     "metadata": {
      "needs_background": "light"
     },
     "output_type": "display_data"
    }
   ],
   "source": [
    "import numpy as np\n",
    "import matplotlib.pyplot as plt\n",
    "\n",
    "ppar = [4, 3, -2, 10]\n",
    "p = np.poly1d(ppar) # 4*x**3 + 3*x**2 -2*x + 10\n",
    "\n",
    "xvals = np.arange(-2, 2, 0.01)\n",
    "yvals = np.polyval(ppar, xvals)\n",
    "\n",
    "plt.plot(xvals, yvals, '-.k') # dash-dot black line spec\n",
    "ycos = np.cos(xvals)\n",
    "plt.plot(xvals, ycos, 'r')\n",
    "plt.title('Example plots')\n",
    "plt.xlabel('Input')\n",
    "plt.ylabel('Function values')\n",
    "plt.axis([-2.0, 2.0, -10, 20])\n",
    "plt.grid()\n",
    "plt.show()"
   ]
  },
  {
   "cell_type": "code",
   "execution_count": 49,
   "metadata": {},
   "outputs": [
    {
     "name": "stdout",
     "output_type": "stream",
     "text": [
      "Enter First number: 5\n",
      "Enter Second number 6\n",
      "Sum of  5.0 and 6.0 is : 11.0\n",
      "Difference of  5.0 and 6.0 is : -1.0\n",
      "Product of 5.0 and 6.0 is : 30.0\n",
      "Division of  5.0 and 6.0 is : 0.8333333333333334\n",
      "Floor Division of  5.0 and 6.0 is : 0.0\n",
      "Exponent of  5.0 and 6.0 is : 15625.0\n",
      "Modulus of  5.0 and 6.0 is : 5.0\n"
     ]
    }
   ],
   "source": [
    "num1 = float(input('Enter First number: '))\n",
    "num2 = float(input('Enter Second number '))\n",
    "add = num1 + num2\n",
    "dif = num1 - num2\n",
    "mul = num1 * num2\n",
    "div = num1 / num2\n",
    "floor_div = num1 // num2\n",
    "power = num1 ** num2\n",
    "modulus = num1 % num2\n",
    "print('Sum of ',num1 ,'and' ,num2 ,'is :',add)\n",
    "print('Difference of ',num1 ,'and' ,num2 ,'is :',dif)\n",
    "print('Product of' ,num1 ,'and' ,num2 ,'is :',mul)\n",
    "print('Division of ',num1 ,'and' ,num2 ,'is :',div)\n",
    "print('Floor Division of ',num1 ,'and' ,num2 ,'is :',floor_div)\n",
    "print('Exponent of ',num1 ,'and' ,num2 ,'is :',power)\n",
    "print('Modulus of ',num1 ,'and' ,num2 ,'is :',modulus)"
   ]
  },
  {
   "cell_type": "markdown",
   "metadata": {},
   "source": [
    "# Mathematical Functions\n",
    "ceil(x)\tReturns the smallest integer greater than or equal to x.\n",
    "<br>\n",
    "floor(x)\tReturns the largest integer less than or equal to x\n",
    "\n",
    "fmod(x, y)\tReturns the remainder when x is divided by y\n",
    "<br>\n",
    "fsum(iterable)\tReturns an accurate floating point sum of values in the iterable\n",
    "\n",
    "isfinite(x)\tReturns True if x is neither an infinity nor a NaN (Not a Number)\n",
    "<br>\n",
    "isinf(x)\tReturns True if x is a positive or negative infinity\n",
    "<br>\n",
    "isnan(x)\tReturns True if x is a NaN\n",
    "\n",
    "exp(x)\tReturns e**x\n",
    "\n",
    "log(x) Returns the base-e logarithm of x\n",
    "<br>\n",
    "log2(x)\tReturns the base-2 logarithm of x\n",
    "<br>\n",
    "log10(x)\tReturns the base-10 logarithm of x\n",
    "\n",
    "pow(x, y)\tReturns x raised to the power y\n",
    "<br>\n",
    "sqrt(x)\tReturns the square root of x\n",
    "\n",
    "acos(x)\tReturns the arc cosine of x\n",
    "<br>\n",
    "asin(x)\tReturns the arc sine of x\n",
    "<br>\n",
    "atan(x)\tReturns the arc tangent of x\n",
    "<br>\n",
    "atan2(y, x)\tReturns atan(y / x)\n",
    "<br>\n",
    "cos(x)\tReturns the cosine of x\n",
    "<br>\n",
    "hypot(x, y)\tReturns the Euclidean norm, sqrt(x*x + y*y)\n",
    "<br>\n",
    "sin(x)\tReturns the sine of x\n",
    "<br>\n",
    "tan(x)\tReturns the tangent of x\n",
    "\n",
    "degrees(x)\tConverts angle x from radians to degrees\n",
    "<br>\n",
    "radians(x)\tConverts angle x from degrees to radians\n",
    "\n",
    "acosh(x)\tReturns the inverse hyperbolic cosine of x\n",
    "<br>\n",
    "asinh(x)\tReturns the inverse hyperbolic sine of x\n",
    "<br>\n",
    "atanh(x)\tReturns the inverse hyperbolic tangent of x\n",
    "<br>\n",
    "cosh(x)\tReturns the hyperbolic cosine of x\n",
    "<br>\n",
    "sinh(x)\tReturns the hyperbolic cosine of x\n",
    "<br>\n",
    "tanh(x)\tReturns the hyperbolic tangent of x\n",
    "\n",
    "pi\tMathematical constant, the ratio of circumference of a circle to it's diameter (3.14159...)\n",
    "<br>\n",
    "e\tmathematical constant e (2.71828...)"
   ]
  },
  {
   "cell_type": "code",
   "execution_count": 50,
   "metadata": {},
   "outputs": [
    {
     "name": "stdout",
     "output_type": "stream",
     "text": [
      "1.0\n",
      "1.0000050000069649e-05\n",
      "1.0\n",
      "2.0\n",
      "1000.0\n",
      "1.4142135623730951\n",
      "1.2246467991473532e-16\n",
      "-1.0\n",
      "0.9999999999999999\n"
     ]
    }
   ],
   "source": [
    "from math import fsum, exp, log, log10, e, pow, sqrt, sin, cos, tan, pi\n",
    "\n",
    "print(fsum([.1, .1, .1, .1, .1, .1, .1, .1, .1, .1]))\n",
    "print(exp(1e-5) - 1)\n",
    "print(log(e))\n",
    "print(log10(100))\n",
    "print(pow(10, 3))\n",
    "print(sqrt(2))\n",
    "print(sin(pi))\n",
    "print(cos(pi))\n",
    "print(tan(pi/4.0))"
   ]
  },
  {
   "cell_type": "markdown",
   "metadata": {},
   "source": [
    "# Plotting Mathematical Functions"
   ]
  },
  {
   "cell_type": "code",
   "execution_count": 51,
   "metadata": {},
   "outputs": [
    {
     "data": {
      "image/png": "[encoded data removed]",
      "text/plain": [
       "<Figure size 432x288 with 1 Axes>"
      ]
     },
     "metadata": {
      "needs_background": "light"
     },
     "output_type": "display_data"
    }
   ],
   "source": [
    "import numpy as np\n",
    "import matplotlib.pyplot as plt\n",
    "\n",
    "evals = np.arange(-2.5, 2.5, 0.01)\n",
    "lvals = np.arange(0.01, 2.5, 0.01)\n",
    "yexp = np.exp(evals)\n",
    "ylog = np.log(lvals)\n",
    "\n",
    "plt.plot(evals, yexp, '-.b')\n",
    "plt.plot(lvals, ylog, ':y*')\n",
    "plt.title('exp:black, log:yellow')\n",
    "plt.xlabel('Input')\n",
    "plt.ylabel('Function values')\n",
    "plt.axis([-pi, pi, -10, 10])\n",
    "plt.grid()\n",
    "plt.show()"
   ]
  },
  {
   "cell_type": "code",
   "execution_count": 52,
   "metadata": {},
   "outputs": [
    {
     "data": {
      "image/png": "[encoded data removed]",
      "text/plain": [
       "<Figure size 432x288 with 1 Axes>"
      ]
     },
     "metadata": {
      "needs_background": "light"
     },
     "output_type": "display_data"
    }
   ],
   "source": [
    "# Plotting Trigonometic Functions\n",
    "\n",
    "import numpy as np\n",
    "from math import pi\n",
    "import matplotlib.pyplot as plt\n",
    "\n",
    "xvals = np.linspace(-pi, pi, num=1000)\n",
    "\n",
    "ysin = np.sin(2*pi*1*xvals) # frequency = 1\n",
    "ycos = np.cos(2*pi*0.5*xvals) # frequency = 1/2\n",
    "\n",
    "plt.plot(xvals, ysin, '*r')\n",
    "plt.plot(xvals, ycos, 'sg')\n",
    "plt.title('sin:red, cos:green')\n",
    "plt.xlabel('Input')\n",
    "plt.ylabel('Function values')\n",
    "plt.axis([-pi, pi, -1, 1])\n",
    "plt.grid()\n",
    "plt.show()"
   ]
  },
  {
   "cell_type": "code",
   "execution_count": 53,
   "metadata": {},
   "outputs": [
    {
     "name": "stdout",
     "output_type": "stream",
     "text": [
      "45.0\n",
      "1.0 1.0 1.4142135623730951 45.0\n",
      "(1.4142135623730951, 0.7853981633974483)\n",
      "(1.0000000000000002+1j)\n",
      "(5+4j)\n"
     ]
    }
   ],
   "source": [
    "# Complex Number Functions\n",
    "from numpy import *\n",
    "import cmath\n",
    "import matplotlib.pyplot as plt\n",
    "\n",
    "x = 1.0\n",
    "y = 1.0\n",
    "\n",
    "z = complex(x,y) # rectangular form\n",
    "print(rad2deg(angle(z)))\n",
    "print(z.real, z.imag, abs(z), rad2deg(cmath.phase(z))) # real part, imaginary part, magnitude, phase \n",
    "\n",
    "w = cmath.polar(z) # to polar form\n",
    "print(w) # w[0] is the magnitude and w[1] is the phase\n",
    "\n",
    "v = cmath.rect(w[0], w[1])  # ploar form to rectangular form\n",
    "print(v)\n",
    "\n",
    "u = 5 + 4j\n",
    "print(u)"
   ]
  },
  {
   "cell_type": "code",
   "execution_count": 54,
   "metadata": {},
   "outputs": [
    {
     "name": "stdout",
     "output_type": "stream",
     "text": [
      "(1.4142135623730951+1.414213562373095j)\n",
      "(-5-5j) (7.0710678118654755, -135.0) (-5-5.000000000000001j)\n"
     ]
    },
    {
     "data": {
      "image/png": "[encoded data removed]",
      "text/plain": [
       "<Figure size 432x288 with 1 Axes>"
      ]
     },
     "metadata": {
      "needs_background": "light"
     },
     "output_type": "display_data"
    }
   ],
   "source": [
    "# Plotting Complex Numbers\n",
    "x1 = 2*exp(1j*deg2rad(45))\n",
    "print(x1)\n",
    "\n",
    "x3 = -5-5j\n",
    "x4 = (abs(x3), rad2deg(angle(x3)))\n",
    "x5 = x4[0]*exp(1j*deg2rad(x4[1]))\n",
    "print(x3, x4, x5)\n",
    "\n",
    "plt.plot(x1.imag, x1.real, '+', x5.imag, x5.real, '*')\n",
    "plt.title('Complex Numbers')\n",
    "plt.xlabel('x')\n",
    "plt.ylabel('yj')\n",
    "plt.axis([-8, 8, -8, 8])\n",
    "plt.grid()\n",
    "plt.show()"
   ]
  },
  {
   "cell_type": "markdown",
   "metadata": {},
   "source": [
    "# Index, Slice and Reshape Of Arrays \n",
    "Slicing is specified using the colon operator ‘:’ with a ‘from‘ and ‘to‘ index before and after the column respectively. \n",
    "The slice extends from the ‘from’ index and ends one item before the ‘to’ index.\n",
    "we can slice the last two items in the list by starting the slice at -2 (the second last item) and not specifying a ‘to’ index; \n",
    "that takes the slice to the end of the dimension."
   ]
  },
  {
   "cell_type": "code",
   "execution_count": 55,
   "metadata": {},
   "outputs": [
    {
     "name": "stdout",
     "output_type": "stream",
     "text": [
      "[11, 22, 33, 44, 55]\n",
      "[11 22 33 44 55]\n",
      "<class 'numpy.ndarray'>\n",
      "55\n",
      "[11 22 33 44 55]\n",
      "[11 22 33]\n",
      "(5,)\n",
      "(5, 1)\n",
      "[[11]\n",
      " [22]\n",
      " [33]\n",
      " [44]\n",
      " [55]]\n",
      "11\n",
      "[11 22 33]\n",
      "[[22 33]\n",
      " [55 66]]\n"
     ]
    }
   ],
   "source": [
    "from numpy import array\n",
    "\n",
    "# list of data\n",
    "data1 = [11, 22, 33, 44, 55]\n",
    "print(data1)\n",
    "# array of data\n",
    "data2 = array(data1) # a row \n",
    "print(data2)\n",
    "print(type(data2))\n",
    "\n",
    "# index data\n",
    "print(data2[4])\n",
    "print(data2[:])\n",
    "print(data2[0:3])\n",
    "\n",
    "# shape and reshape\n",
    "print(data2.shape)\n",
    "data2 = data2.reshape((data2.shape[0], 1))\n",
    "print(data2.shape)\n",
    "print(data2) # a column\n",
    "\n",
    "data = array([[11, 22, 33], [44, 55, 66], [77, 88, 99]])\n",
    "# index data\n",
    "print(data[0,0])\n",
    "print(data[0,])\n",
    "print(data[0:2, -2:]) # first two rows and last twp columns "
   ]
  },
  {
   "cell_type": "code",
   "execution_count": 56,
   "metadata": {},
   "outputs": [
    {
     "name": "stdout",
     "output_type": "stream",
     "text": [
      "[2 3 4 5]\n",
      "[ 2  4  8 16]\n",
      "[ 3  6 13 28]\n",
      "[2. 2. 2. 2.]\n",
      "[3. 4. 5. 6.]\n",
      "[-1.  0.  1.  2.]\n",
      "[2. 4. 6. 8.]\n",
      "[0.5 1.  1.5 2. ]\n"
     ]
    }
   ],
   "source": [
    "# Element By Element Arithmetic Operations\n",
    "a = np.array([1, 2, 3, 4])\n",
    "print(a + 1)\n",
    "print(2**a)\n",
    "print(2**(a + 1) - a)\n",
    "\n",
    "b = np.ones(4) + 1\n",
    "print(b)\n",
    "print(a + b)\n",
    "print(a - b)\n",
    "print(a * b) # the smae as np.multiply(a, b)\n",
    "print(a / b)\n"
   ]
  },
  {
   "cell_type": "code",
   "execution_count": 57,
   "metadata": {},
   "outputs": [
    {
     "data": {
      "image/png": "[encoded data removed]",
      "text/plain": [
       "<Figure size 432x288 with 1 Axes>"
      ]
     },
     "metadata": {
      "needs_background": "light"
     },
     "output_type": "display_data"
    },
    {
     "data": {
      "text/plain": [
       "[<mpl_toolkits.mplot3d.art3d.Line3D at 0x11df6e490>]"
      ]
     },
     "execution_count": 57,
     "metadata": {},
     "output_type": "execute_result"
    },
    {
     "data": {
      "image/png": "[encoded data removed]",
      "text/plain": [
       "<Figure size 432x288 with 1 Axes>"
      ]
     },
     "metadata": {
      "needs_background": "light"
     },
     "output_type": "display_data"
    }
   ],
   "source": [
    "# Plotting Phasors In 3D\n",
    "import numpy as np\n",
    "from cmath import pi, exp\n",
    "from mpl_toolkits import mplot3d\n",
    "\n",
    "t = array(np.arange(0, 3, 0.001))\n",
    "m = np.ones(len(t))\n",
    "\n",
    "phasor1 = m * np.exp(1j*2*pi*t)\n",
    "phasor2 = (2*m) * np.exp(1j*2*pi*4*t)\n",
    "\n",
    "# 2D drawing\n",
    "X1 = [x.real for x in phasor1]\n",
    "Y1 = [x.imag for x in phasor1]\n",
    "X2 = [x.real for x in phasor2]\n",
    "Y2 = [x.imag for x in phasor2]\n",
    "plt.scatter(X1,Y1, color = 'r')\n",
    "plt.scatter(X2,Y2, color = 'b')\n",
    "plt.show()\n",
    "\n",
    "# 3D drawing \n",
    "fig = plt.figure()\n",
    "ax = plt.axes(projection='3d')\n",
    "ax.plot3D(X1, Y1, t, 'red')\n",
    "ax.plot3D(X2, Y2, t, 'blue')\n",
    "#ax.scatter3D(X, Y, t, c=t, cmap='Greens')"
   ]
  },
  {
   "cell_type": "code",
   "execution_count": 58,
   "metadata": {},
   "outputs": [
    {
     "data": {
      "text/plain": [
       "[<matplotlib.lines.Line2D at 0x11dfeb850>]"
      ]
     },
     "execution_count": 58,
     "metadata": {},
     "output_type": "execute_result"
    },
    {
     "data": {
      "image/png": "[encoded data removed]",
      "text/plain": [
       "<Figure size 432x288 with 1 Axes>"
      ]
     },
     "metadata": {
      "needs_background": "light"
     },
     "output_type": "display_data"
    }
   ],
   "source": [
    "# Derivations Using np.diff\n",
    "import numpy as np\n",
    "import matplotlib.pyplot as plt\n",
    "from cmath import pi\n",
    "\n",
    "x = np.array(np.linspace(0, 2*pi, 11))\n",
    "y = np.sin(x)\n",
    "yprime = np.diff(y)/np.diff(x)\n",
    "x = x[0:len(x)-1]\n",
    "plt.plot(x, yprime, 'sr', x, np.cos(x), '+b')\n",
    "\n",
    "x = np.array(np.linspace(0, 2*pi, 101))\n",
    "y = np.sin(x)\n",
    "yprime = np.diff(y)/np.diff(x)\n",
    "x = x[0:len(x)-1]\n",
    "plt.plot(x, yprime, 'g')"
   ]
  },
  {
   "cell_type": "code",
   "execution_count": 59,
   "metadata": {},
   "outputs": [
    {
     "data": {
      "text/plain": [
       "[<matplotlib.lines.Line2D at 0x11e0449a0>,\n",
       " <matplotlib.lines.Line2D at 0x11e0449d0>]"
      ]
     },
     "execution_count": 59,
     "metadata": {},
     "output_type": "execute_result"
    },
    {
     "data": {
      "image/png": "[encoded data removed]",
      "text/plain": [
       "<Figure size 432x288 with 1 Axes>"
      ]
     },
     "metadata": {
      "needs_background": "light"
     },
     "output_type": "display_data"
    }
   ],
   "source": [
    "# Derivations Using np.gradient\n",
    "x = np.array(np.linspace(0, 2*pi, 51))\n",
    "y = np.sin(x)\n",
    "yprime = np.gradient(y, x)\n",
    "plt.plot(x, yprime, '*b', x, np.cos(x), 'g')"
   ]
  },
  {
   "cell_type": "code",
   "execution_count": 60,
   "metadata": {},
   "outputs": [
    {
     "name": "stdout",
     "output_type": "stream",
     "text": [
      "cos(x)\n"
     ]
    },
    {
     "data": {
      "text/plain": [
       "[<matplotlib.lines.Line2D at 0x11e0b2460>]"
      ]
     },
     "execution_count": 60,
     "metadata": {},
     "output_type": "execute_result"
    },
    {
     "data": {
      "image/png": "[encoded data removed]",
      "text/plain": [
       "<Figure size 432x288 with 1 Axes>"
      ]
     },
     "metadata": {
      "needs_background": "light"
     },
     "output_type": "display_data"
    }
   ],
   "source": [
    "# Derivations Using Symbolic Differentiation\n",
    "from sympy import *\n",
    "import numpy as np\n",
    "from cmath import pi\n",
    "\n",
    "x = Symbol('x')\n",
    "y = sin(x)\n",
    "yprime = y.diff(x)\n",
    "print(yprime)\n",
    "\n",
    "f = lambdify(x, yprime, 'numpy') # make f a function yprime of input param x\n",
    "z = np.array(np.linspace(0, 2*pi, 51))\n",
    "plt.plot(z, f(z), 'g')"
   ]
  },
  {
   "cell_type": "code",
   "execution_count": 61,
   "metadata": {},
   "outputs": [
    {
     "name": "stdout",
     "output_type": "stream",
     "text": [
      "1.9999900283082463 2.00000000000000\n"
     ]
    },
    {
     "data": {
      "text/plain": [
       "[<matplotlib.lines.Line2D at 0x11e113910>,\n",
       " <matplotlib.lines.Line2D at 0x11e113940>]"
      ]
     },
     "execution_count": 61,
     "metadata": {},
     "output_type": "execute_result"
    },
    {
     "data": {
      "image/png": "[encoded data removed]",
      "text/plain": [
       "<Figure size 432x288 with 1 Axes>"
      ]
     },
     "metadata": {
      "needs_background": "light"
     },
     "output_type": "display_data"
    }
   ],
   "source": [
    "# Integration Using np.sum, np.cumsum, np.trapz, np.cumtrapz\n",
    "import numpy as np\n",
    "import matplotlib.pyplot as plt\n",
    "from cmath import pi\n",
    "\n",
    "delx = 0.01\n",
    "x = np.array(np.arange(0, pi, delx))\n",
    "y = np.sin(x)\n",
    "z1 = delx*np.sum(y)\n",
    "z2 = 1 - cos(pi)\n",
    "print(z1, z2)\n",
    "\n",
    "delx = 0.01\n",
    "x = np.array(np.arange(0, 2*pi, delx))\n",
    "y = np.sin(x)\n",
    "z1 = delx*np.cumsum(y)\n",
    "z2 = 1 - np.cos(x)\n",
    "plt.plot(x, z1, '*r', x, z2, 'g')"
   ]
  },
  {
   "cell_type": "code",
   "execution_count": 62,
   "metadata": {},
   "outputs": [
    {
     "name": "stdout",
     "output_type": "stream",
     "text": [
      "0.34121261787609525 0.346573590279973\n"
     ]
    },
    {
     "data": {
      "text/plain": [
       "[<matplotlib.lines.Line2D at 0x11ddfd760>,\n",
       " <matplotlib.lines.Line2D at 0x11ddfd790>]"
      ]
     },
     "execution_count": 62,
     "metadata": {},
     "output_type": "execute_result"
    },
    {
     "data": {
      "image/png": "[encoded data removed]",
      "text/plain": [
       "<Figure size 432x288 with 1 Axes>"
      ]
     },
     "metadata": {
      "needs_background": "light"
     },
     "output_type": "display_data"
    }
   ],
   "source": [
    "from scipy import integrate\n",
    "\n",
    "delx = 0.01\n",
    "x = np.array(np.arange(0, pi/4, delx))\n",
    "y = np.tan(x)\n",
    "z1 = delx*np.trapz(y)\n",
    "z2 = log(abs(1/np.cos(pi/4))) # log| sec x |\n",
    "print(z1, z2)\n",
    "\n",
    "delx = 0.01\n",
    "x = np.array(np.arange(0, pi/2-0.01, delx))\n",
    "y = np.tan(x)\n",
    "z1 = delx*integrate.cumtrapz(y)\n",
    "asecx = np.absolute(1/np.cos(x))\n",
    "z2 = np.log(asecx)\n",
    "plt.plot(x[0:len(x)-1], z1, '*r', x, z2, 'g')"
   ]
  },
  {
   "cell_type": "code",
   "execution_count": 63,
   "metadata": {},
   "outputs": [
    {
     "name": "stdout",
     "output_type": "stream",
     "text": [
      "x**3/3 + x**2/2 + x\n",
      "-cos(x)\n"
     ]
    }
   ],
   "source": [
    "# Integration Using Symbolic Integration\n",
    "from sympy import *\n",
    "\n",
    "x = Symbol('x')\n",
    "\n",
    "print(integrate(x**2 + x + 1, x))\n",
    "print(integrate(sin(x)))\n",
    "   "
   ]
  },
  {
   "cell_type": "code",
   "execution_count": 64,
   "metadata": {},
   "outputs": [
    {
     "name": "stdout",
     "output_type": "stream",
     "text": [
      "A = [[1, 4, 5, 12], [-5, 8, 9, 0], [-6, 7, 11, 19]]\n",
      "A[1] = [-5, 8, 9, 0]\n",
      "A[1][2] = 9\n",
      "A[0][-1] = 12\n",
      "3rd column = [5, 9, 11]\n"
     ]
    }
   ],
   "source": [
    "# Matrix Creation\n",
    "\n",
    "A = [[1, 4, 5, 12], \n",
    "    [-5, 8, 9, 0],\n",
    "    [-6, 7, 11, 19]]\n",
    "\n",
    "print(\"A =\", A) \n",
    "print(\"A[1] =\", A[1])            # 2nd row\n",
    "print(\"A[1][2] =\", A[1][2])      # 3rd element of 2nd row\n",
    "print(\"A[0][-1] =\", A[0][-1])    # Last element of 1st Row\n",
    "\n",
    "column = [];                     # empty list\n",
    "for row in A:\n",
    "  column.append(row[2])   \n",
    "\n",
    "print(\"3rd column =\", column)"
   ]
  },
  {
   "cell_type": "code",
   "execution_count": 65,
   "metadata": {},
   "outputs": [
    {
     "name": "stdout",
     "output_type": "stream",
     "text": [
      "[[1 2 3]\n",
      " [3 4 5]]\n",
      "[[1.1 2.  3. ]\n",
      " [3.  4.  5. ]]\n",
      "[[1.+0.j         2.+0.j         3.+0.j        ]\n",
      " [3.+1.j         4.+1.41421356j 5.+0.j        ]]\n",
      "[[0. 0. 0.]\n",
      " [0. 0. 0.]]\n",
      "[[1 1 1 1 1]]\n"
     ]
    }
   ],
   "source": [
    "# Numpy Matrix Creation\n",
    "import numpy as np\n",
    "\n",
    "A = np.array([[1, 2, 3], [3, 4, 5]])\n",
    "print(A)\n",
    "\n",
    "A = np.array([[1.1, 2, 3], [3, 4, 5]]) # Array of floats\n",
    "print(A)\n",
    "\n",
    "A = np.array([[1, 2, 3], [3+1j, 4+1j*np.sqrt(2), 5]], dtype = complex) # Array of complex numbers\n",
    "print(A)\n",
    "\n",
    "zeors_array = np.zeros( (2, 3) )\n",
    "print(zeors_array)\n",
    "\n",
    "ones_array = np.ones( (1, 5), dtype=np.int32 ) # specifying dtype\n",
    "print(ones_array)"
   ]
  },
  {
   "cell_type": "code",
   "execution_count": 79,
   "metadata": {},
   "outputs": [
    {
     "name": "stdout",
     "output_type": "stream",
     "text": [
      "A+B\n",
      " [[11  1]\n",
      " [ 8  0]]\n",
      "\n",
      "A-B\n",
      " [[ -7   7]\n",
      " [  2 -12]]\n",
      "\n",
      "A*B\n",
      " [[ 36 -12]\n",
      " [ -1   2]]\n",
      "\n",
      "tranpose\n",
      " [[ 1  2  3]\n",
      " [ 1  1 -3]]\n"
     ]
    }
   ],
   "source": [
    "# Numpy Matrix Operations\n",
    "import numpy as np\n",
    "\n",
    "A = np.array([[2, 4],\n",
    "              [5, -6]])\n",
    "B = np.array([[9, -3],\n",
    "              [3, 6]])\n",
    "C = A + B      # element wise addition\n",
    "D = A - B      # element wise subtraction\n",
    "print(\"A+B\\n\",C)\n",
    "print(\"\\nA-B\\n\",D)\n",
    "\n",
    "A = np.array([[3, 6, 7], \n",
    "              [5, -3, 0]]) #2*3\n",
    "B = np.array([[1, 1], \n",
    "              [2, 1], \n",
    "              [3, -3]]) #3*2\n",
    "C = A.dot(B)   # matrix multiplication\n",
    "print(\"\\nA*B\\n\",C)\n",
    "\n",
    "A = np.array([[1, 1],\n",
    "              [2, 1],\n",
    "              [3, -3]])\n",
    "print(\"\\ntranpose\\n\",A.transpose())"
   ]
  },
  {
   "cell_type": "code",
   "execution_count": 67,
   "metadata": {},
   "outputs": [
    {
     "name": "stdout",
     "output_type": "stream",
     "text": [
      "A[0] = 2\n",
      "A[2] = 6\n",
      "A[-1] = 10\n",
      "A[0][0] = 1\n",
      "A[1][2] = 9\n",
      "A[-1][-1] = 19\n",
      "A[0] = [ 1  4  5 12]\n",
      "A[2] = [-6  7 11 19]\n",
      "A[-1] = [-6  7 11 19]\n",
      "A[:,0] = [ 1 -5 -6]\n",
      "A[:,3] = [12  0 19]\n",
      "A[:,-1] = [12  0 19]\n"
     ]
    }
   ],
   "source": [
    "# Access matrix elements, rows and columns\n",
    "\n",
    "import numpy as np\n",
    "\n",
    "A = np.array([2, 4, 6, 8, 10])\n",
    "\n",
    "print(\"A[0] =\", A[0])     # First element     \n",
    "print(\"A[2] =\", A[2])     # Third element \n",
    "print(\"A[-1] =\", A[-1])   # Last element  \n",
    "\n",
    "A = np.array([[1, 4, 5, 12],\n",
    "    [-5, 8, 9, 0],\n",
    "    [-6, 7, 11, 19]])\n",
    "\n",
    "print(\"A[0][0] =\", A[0][0])     #  First element of first row\n",
    "print(\"A[1][2] =\", A[1][2])     # Third element of second row\n",
    "print(\"A[-1][-1] =\", A[-1][-1]) # Last element of last row\n",
    "\n",
    "print(\"A[0] =\", A[0])    # First Row\n",
    "print(\"A[2] =\", A[2])    # Third Row\n",
    "print(\"A[-1] =\", A[-1])  # Last Row (3rd row in this case)\n",
    "\n",
    "print(\"A[:,0] =\",A[:,0])    # First Column\n",
    "print(\"A[:,3] =\", A[:,3])   # Fourth Column\n",
    "print(\"A[:,-1] =\", A[:,-1]) # Last Column (4th column in this case)\n"
   ]
  },
  {
   "cell_type": "code",
   "execution_count": 68,
   "metadata": {},
   "outputs": [
    {
     "name": "stdout",
     "output_type": "stream",
     "text": [
      "[5 7 9]\n",
      "[1 3]\n",
      "[7 5]\n",
      "[1 3 5 7 9 7 5]\n",
      "[5 7 9 7 5 3 1]\n",
      "\n",
      "[[ 1  4  5 12]\n",
      " [-5  8  9  0]]\n",
      "[[ 1  4  5 12 14]]\n",
      "[ 5  9 11]\n",
      "[[ 5 12 14]\n",
      " [ 9  0 17]\n",
      " [11 19 21]]\n"
     ]
    }
   ],
   "source": [
    "# Slicing of a Matrix\n",
    "import numpy as np\n",
    "\n",
    "letters = np.array([1, 3, 5, 7, 9, 7, 5])\n",
    "\n",
    "print(letters[2:5])        # 3rd to 5th elements\n",
    "print(letters[:-5])        # 1st to (last-5)th elements\n",
    "print(letters[5:])         # 6th to last elements\n",
    "print(letters[:])          # 1st to last elements\n",
    "print(letters[::-1])       # reversing a list\n",
    "print()\n",
    "\n",
    "A = np.array([[1, 4, 5, 12, 14], \n",
    "    [-5, 8, 9, 0, 17],\n",
    "    [-6, 7, 11, 19, 21]])\n",
    "\n",
    "print(A[:2, :4])   # two rows, four columns\n",
    "print(A[:1,])      # first row, all columns\n",
    "print(A[:,2])      # all rows, second column\n",
    "print(A[:, 2:5])   # all rows, third to fifth column\n"
   ]
  },
  {
   "cell_type": "code",
   "execution_count": 69,
   "metadata": {},
   "outputs": [
    {
     "name": "stdout",
     "output_type": "stream",
     "text": [
      "-2.0000000000000004\n",
      "(3, 2, 2)\n",
      "[-2. -3. -8.]\n"
     ]
    }
   ],
   "source": [
    "# Matrix Determinant\n",
    "import numpy as np\n",
    "\n",
    "a = np.array([[1, 2], [3, 4]])\n",
    "print(np.linalg.det(a))\n",
    "\n",
    "a = np.array([ [[1, 2], [3, 4]], [[1, 2], [2, 1]], [[1, 3], [3, 1]] ])\n",
    "print(a.shape)\n",
    "print(np.linalg.det(a))"
   ]
  },
  {
   "cell_type": "code",
   "execution_count": 70,
   "metadata": {},
   "outputs": [
    {
     "name": "stdout",
     "output_type": "stream",
     "text": [
      "[[-2.   1. ]\n",
      " [ 1.5 -0.5]]\n",
      "(2, 2, 2)\n",
      "[[[-2.    1.  ]\n",
      "  [ 1.5  -0.5 ]]\n",
      "\n",
      " [[-1.25  0.75]\n",
      "  [ 0.75 -0.25]]]\n"
     ]
    }
   ],
   "source": [
    "# Matrix Inverse\n",
    "import numpy as np\n",
    "\n",
    "a = np.array([[1., 2.], [3., 4.]])\n",
    "ainv = np.linalg.inv(a)\n",
    "print(ainv)\n",
    "\n",
    "a = np.array([[[1., 2.], [3., 4.]], [[1, 3], [3, 5]]])\n",
    "print(a.shape)\n",
    "ainv = np.linalg.inv(a)\n",
    "print(ainv)"
   ]
  },
  {
   "cell_type": "code",
   "execution_count": 71,
   "metadata": {},
   "outputs": [
    {
     "name": "stdout",
     "output_type": "stream",
     "text": [
      "[[0 1]\n",
      " [2 3]\n",
      " [4 5]]\n",
      "[0 1 2 3 4 5]\n",
      "[0 2 4 1 3 5]\n",
      "\n",
      "[[0 1 2]\n",
      " [3 4 5]]\n",
      "C-like reshape =  [[0 1 2]\n",
      " [3 4 5]]\n",
      "F-like reshape =  [[0 4 3]\n",
      " [2 1 5]]\n",
      "[[0 4 3]\n",
      " [2 1 5]]\n"
     ]
    }
   ],
   "source": [
    "# Matrix Reshape\n",
    "\n",
    "a = np.arange(6).reshape((3, 2))\n",
    "print(a)\n",
    "print(np.ravel(a, order='C'))\n",
    "print(np.ravel(a, order='F'))\n",
    "print()\n",
    "print(np.reshape(a, (2, 3)))                                    # C-like index ordering\n",
    "print('C-like reshape = ', np.reshape(np.ravel(a), (2, 3)))     # equivalent to C ravel then C reshape\n",
    "print('F-like reshape = ', np.reshape(a, (2, 3), order='F'))    # Fortran-like index ordering\n",
    "print(np.reshape(np.ravel(a, order='F'), (2, 3), order='F'))"
   ]
  },
  {
   "cell_type": "code",
   "execution_count": 72,
   "metadata": {},
   "outputs": [
    {
     "name": "stdout",
     "output_type": "stream",
     "text": [
      "[8 9 3]\n",
      "[-6  1  1]\n",
      "29\n",
      "5.477225575051661 8.12403840463596\n",
      "49.32809804971241\n"
     ]
    }
   ],
   "source": [
    "# Vector is an one dimensional array\n",
    "import numpy as np\n",
    "\n",
    "x = np.array([1,5,2])   # vector x\n",
    "y = np.array([7,4,1])   # vector y\n",
    "\n",
    "print(x + y)            # vector addition\n",
    "print(x - y)            # vector subtraction\n",
    "dot = np.dot(x, y)      # vectot dot product\n",
    "print(dot)     # vectot dot product\n",
    "\n",
    "x_norm = np.sqrt((x*x).sum()) # magnitude of x\n",
    "y_norm = np.linalg.norm(y)    # magnitude of y\n",
    "print(x_norm, y_norm)\n",
    "cos_angle = dot / (x_norm * y_norm) # cosine of angle between x and y\n",
    "angle = np.arccos(cos_angle)\n",
    "function1 = [10, 0, 0, 0, 0]\n",
    "y1 = np.poly1d(function1) # 4*x**4 \n",
    "\n",
    "print(y1)\n"
   ]
  },
  {
   "cell_type": "code",
   "execution_count": null,
   "metadata": {},
   "outputs": [],
   "source": []
  },
  {
   "cell_type": "code",
   "execution_count": null,
   "metadata": {},
   "outputs": [],
   "source": []
  },
  {
   "cell_type": "code",
   "execution_count": null,
   "metadata": {},
   "outputs": [],
   "source": []
  },
  {
   "cell_type": "code",
   "execution_count": null,
   "metadata": {},
   "outputs": [],
   "source": []
  },
  {
   "cell_type": "code",
   "execution_count": null,
   "metadata": {},
   "outputs": [],
   "source": []
  }
 ],
 "metadata": {
  "kernelspec": {
   "display_name": "Python 3",
   "language": "python",
   "name": "python3"
  },
  "language_info": {
   "codemirror_mode": {
    "name": "ipython",
    "version": 3
   },
   "file_extension": ".py",
   "mimetype": "text/x-python",
   "name": "python",
   "nbconvert_exporter": "python",
   "pygments_lexer": "ipython3",
   "version": "3.8.5"
  }
 },
 "nbformat": 4,
 "nbformat_minor": 2
}
