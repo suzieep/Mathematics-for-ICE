{
 "cells": [
  {
   "cell_type": "code",
   "execution_count": 168,
   "metadata": {},
   "outputs": [
    {
     "name": "stdout",
     "output_type": "stream",
     "text": [
      "\n",
      "a :  [3.  3.1 3.2 3.3 3.4 3.5 3.6 3.7 3.8 3.9]\n",
      "\n",
      "b :  [10.         14.44444444 18.88888889 23.33333333 27.77777778 32.22222222\n",
      " 36.66666667 41.11111111 45.55555556 50.        ]\n",
      "\n",
      "c :  [1.5  1.55 1.6  1.65 1.7  1.75 1.8  1.85 1.9  1.95]\n",
      "\n",
      "d :  [13.         17.54444444 22.08888889 26.63333333 31.17777778 35.72222222\n",
      " 40.26666667 44.81111111 49.35555556 53.9       ]\n",
      "\n",
      "e :  [ -7.         -11.34444444 -15.68888889 -20.03333333 -24.37777778\n",
      " -28.72222222 -33.06666667 -37.41111111 -41.75555556 -46.1       ]\n",
      "\n",
      "f :  [ 30.          44.77777778  60.44444444  77.          94.44444444\n",
      " 112.77777778 132.         152.11111111 173.11111111 195.        ]\n",
      "\n",
      "g :  [0.3        0.21461538 0.16941176 0.14142857 0.1224     0.10862069\n",
      " 0.09818182 0.09       0.08341463 0.078     ]\n"
     ]
    }
   ],
   "source": [
    "import numpy as np\n",
    "import matplotlib.pyplot as plt\n",
    "from math import cos,sin\n",
    "from cmath import pi, exp\n",
    "from sympy import *\n",
    "\n",
    "#1)  Create the following vectors and evaluate the equations as described below using Python:   \n",
    "A = np.arange(3, 4, 0.1)\n",
    "B = np.linspace(10,50,10)\n",
    "\n",
    "#a) A row vector A whose starting point is 3 and end point is 3.9 and interval between the adjacent points is 0.1.\n",
    "print(\"\\na : \",A)\n",
    "\n",
    "#b) A row vector B which has 10 points between 10 and 50.\n",
    "print(\"\\nb : \",B)\n",
    "\n",
    "#c) Compute 0.5*A\n",
    "print(\"\\nc : \",0.5*A)\n",
    "\n",
    "#d) Compute the element by element addition of A and B.\n",
    "print(\"\\nd : \",A+B)\n",
    "\n",
    "#e) Compute the element by element subtraction of A and B.\n",
    "print(\"\\ne : \",A-B)\n",
    "\n",
    "#f) Compute the element by element multiplication of A and B.\n",
    "print(\"\\nf : \",A*B)\n",
    "\n",
    "#g) Compute the element by element division of A by B.\n",
    "print(\"\\ng : \",A/B)\n"
   ]
  },
  {
   "cell_type": "code",
   "execution_count": 169,
   "metadata": {},
   "outputs": [
    {
     "name": "stdout",
     "output_type": "stream",
     "text": [
      "a :  6\n",
      "\n",
      "b :  [1 1 3]\n",
      "\n",
      "c :  [2 5 1]\n",
      "\n",
      "d : \n",
      " [[1 4 1]\n",
      " [2 5 1]\n",
      " [3 6 3]]\n",
      "\n",
      "e :  3\n",
      "\n",
      "f : \n",
      " [[-1.5         0.5         0.5       ]\n",
      " [ 1.          0.         -1.        ]\n",
      " [ 0.16666667 -0.16666667  0.5       ]]\n",
      "\n",
      "i :  9\n",
      "\n",
      "j :  -6.0\n",
      "\n",
      "k : adjoint matrix of A\n",
      " [[ 9. -3. -3.]\n",
      " [-6. -0.  6.]\n",
      " [-1.  1. -3.]]\n",
      "\n",
      "k : inverse matrix of A \n",
      " [[-1.5         0.5         0.5       ]\n",
      " [ 1.          0.         -1.        ]\n",
      " [ 0.16666667 -0.16666667  0.5       ]]\n"
     ]
    }
   ],
   "source": [
    "#2) For A = [1 2 3; 4 5 6; 1 1 3], answer the following questions:\n",
    "#Use numpy.array for creating A so that you can use slicing indices.\n",
    "A = np.array([[1,2,3], \n",
    "              [4,5,6],\n",
    "              [1,1,3]])\n",
    "\n",
    "#a) Let aij be the element of ith row and jth column of A. Find a23.\n",
    "print(\"a : \",A[1][2]) #3rd element of 2nd row\n",
    "\n",
    "#b) Find 3rd row of A.\n",
    "print(\"\\nb : \",A[2])\n",
    "\n",
    "#c) Find 2nd column of A.\n",
    "print(\"\\nc : \",A[:,1])\n",
    "\n",
    "#d) Find the transpose of A.\n",
    "print(\"\\nd : \\n\",A.transpose())\n",
    "\n",
    "#e) Find the number of independent rows or columns of A.\n",
    "#Use numphy function of numpy.linalg.matrix_rank(A)\n",
    "print(\"\\ne : \",np.linalg.matrix_rank(A))\n",
    "\n",
    "#f) Find the inverse of A.\n",
    "print(\"\\nf : \\n\",np.linalg.inv(A))\n",
    "\n",
    "#i) Find the sum of the diagonal elements of A.\n",
    "print(\"\\ni : \",np.trace(A))\n",
    "#j) Find the determinant of A.\n",
    "print(\"\\nj : \",np.linalg.det(A))\n",
    "#k) Find the adjoint matrix of A and the inverse matrix of A using (j).\n",
    "print(\"\\nk : adjoint matrix of A\\n\",np.linalg.det(A)*np.linalg.inv(A))\n",
    "print(\"\\nk : inverse matrix of A \\n\",np.linalg.inv(A))"
   ]
  },
  {
   "cell_type": "code",
   "execution_count": 170,
   "metadata": {},
   "outputs": [
    {
     "name": "stdout",
     "output_type": "stream",
     "text": [
      "3)  x=    y=   z=\n",
      " [  6.4   0.2 -11.2]\n"
     ]
    }
   ],
   "source": [
    "#3) Find the solution of the following linear equations.\n",
    "\n",
    "#2x-3y+z = 1\n",
    "#4x-y+2z=3\n",
    "#5x-2y+3z=-2\n",
    "\n",
    "B = np.array([[2,-3,1], \n",
    "              [4,-1,2],\n",
    "              [5,-2,3]])\n",
    "\n",
    "inv_B = np.linalg.inv(B)\n",
    "\n",
    "C =np.array([1,3,-2])\n",
    "\n",
    "X = inv_B.dot(C)\n",
    "\n",
    "print(\"3)  x=    y=   z=\\n\",X)\n"
   ]
  },
  {
   "cell_type": "code",
   "execution_count": 171,
   "metadata": {},
   "outputs": [
    {
     "data": {
      "image/png": "[encoded data removed]",
      "text/plain": [
       "<Figure size 432x288 with 1 Axes>"
      ]
     },
     "metadata": {
      "needs_background": "light"
     },
     "output_type": "display_data"
    }
   ],
   "source": [
    "#4) Use plot.axis([-10 10 -10 10]) to sets the limits for the x- and y-axis of the current axes.\n",
    "plt.xlim(-10, 10)\n",
    "plt.ylim(-10, 10)\n",
    "\n",
    "#a) Create a point X whose coordinate is (2, 1) and plot it.\n",
    "#b) Find a matrix A which can rotate a point by 45 degree.\n",
    "A=np.array([[cos(pi/4) ,-sin(pi/4)],\n",
    "           [sin(pi/4), cos(pi/4)]])\n",
    "X=np.array([[2],[1]])\n",
    "Y=A.dot(X)\n",
    "\n",
    "#c) Plot Y=AX on top of (a).\n",
    "plt.xlim(-10, 10)\n",
    "plt.ylim(-10, 10)\n",
    "\n",
    "plt.title('red : a), blue :c)')\n",
    "plt.plot(X[0],X[1],'ro') #a)\n",
    "plt.plot(Y[0],Y[1],'bo') #c)\n",
    "plt.grid()\n",
    "plt.show()"
   ]
  },
  {
   "cell_type": "code",
   "execution_count": 199,
   "metadata": {},
   "outputs": [
    {
     "name": "stdout",
     "output_type": "stream",
     "text": [
      "cx= [[ 1.          0.99995     0.99980001 ...  0.99973123  0.99991308\n",
      "   0.99999493]\n",
      " [ 0.          0.00999983  0.01999867 ... -0.02318323 -0.01318493\n",
      "  -0.0031853 ]]\n",
      "z= [[1.         1.0299495  1.05979601 ... 0.93018154 0.9603583  0.99043902]\n",
      " [2.         2.03989933 2.07959468 ... 1.90672955 1.94708645 1.98724865]]\n"
     ]
    },
    {
     "data": {
      "image/png": "[encoded data removed]",
      "text/plain": [
       "<Figure size 432x288 with 1 Axes>"
      ]
     },
     "metadata": {
      "needs_background": "light"
     },
     "output_type": "display_data"
    }
   ],
   "source": [
    "#5)  Let t=[0:0.01:2*pi], x=exp(j*t), and B=[1 3; 2 4].  Answer the following questions.\n",
    "tarr = np.array(np.arange(0, 2*pi, 0.01))\n",
    "t = Symbol('t')\n",
    "#X = np.exp(1j*t)\n",
    "B =np.array([[1,3],[2,4]])\n",
    "                                                                      \n",
    "#a) Plot the trajectory of x on a 2-dimensional plane.\n",
    "\n",
    "yvals=[]\n",
    "for x in tarr:\n",
    "    yvals.append(np.exp(1j*x)) \n",
    "\n",
    "X = [x.real for x in yvals]\n",
    "Y = [x.imag for x in yvals]\n",
    "\n",
    "\n",
    "#b) Find the matrix cx whose first row is real(x) and whose second row is imag(x). cx is the set of points. \n",
    "\n",
    "CX = np.vstack((X, Y))\n",
    "print(\"cx=\",CX)\n",
    "\n",
    "#c) Compute z=B*cx.  z is the linear transformation of x by matrix B.  And plot z using plot(z(0,:), z(1,:)) over the plot (a).\n",
    "\n",
    "z = B.dot(CX)\n",
    "print(\"z=\",z)\n",
    "\n",
    "plt.title('red : a), blue :c)')\n",
    "plt.plot(X,Y,'ro')\n",
    "plt.plot(z[0,:], z[1,:],'bo')\n",
    "plt.grid()\n",
    "plt.show()"
   ]
  },
  {
   "cell_type": "code",
   "execution_count": null,
   "metadata": {},
   "outputs": [],
   "source": []
  },
  {
   "cell_type": "code",
   "execution_count": null,
   "metadata": {},
   "outputs": [],
   "source": []
  },
  {
   "cell_type": "code",
   "execution_count": null,
   "metadata": {},
   "outputs": [],
   "source": []
  },
  {
   "cell_type": "code",
   "execution_count": null,
   "metadata": {},
   "outputs": [],
   "source": []
  }
 ],
 "metadata": {
  "kernelspec": {
   "display_name": "Python 3",
   "language": "python",
   "name": "python3"
  },
  "language_info": {
   "codemirror_mode": {
    "name": "ipython",
    "version": 3
   },
   "file_extension": ".py",
   "mimetype": "text/x-python",
   "name": "python",
   "nbconvert_exporter": "python",
   "pygments_lexer": "ipython3",
   "version": "3.8.5"
  }
 },
 "nbformat": 4,
 "nbformat_minor": 4
}
