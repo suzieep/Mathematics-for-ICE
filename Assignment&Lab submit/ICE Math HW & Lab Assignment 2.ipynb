{
 "cells": [
  {
   "cell_type": "code",
   "execution_count": 53,
   "metadata": {},
   "outputs": [
    {
     "name": "stdout",
     "output_type": "stream",
     "text": [
      "4.0\n"
     ]
    }
   ],
   "source": [
    "#1-a)\n",
    "from math import log, log10, e\n",
    "\n",
    "print(log10(10000))\n"
   ]
  },
  {
   "cell_type": "code",
   "execution_count": 54,
   "metadata": {},
   "outputs": [
    {
     "name": "stdout",
     "output_type": "stream",
     "text": [
      "20.0\n"
     ]
    }
   ],
   "source": [
    "#1-b)\n",
    "\n",
    "print(log(e**20))"
   ]
  },
  {
   "cell_type": "code",
   "execution_count": 64,
   "metadata": {},
   "outputs": [
    {
     "name": "stdout",
     "output_type": "stream",
     "text": [
      "3.0000000000000004\n"
     ]
    }
   ],
   "source": [
    "#1-c)\n",
    "\n",
    "print(log(125, 5))"
   ]
  },
  {
   "cell_type": "code",
   "execution_count": 65,
   "metadata": {},
   "outputs": [
    {
     "name": "stdout",
     "output_type": "stream",
     "text": [
      "0.17609125905568124\n"
     ]
    }
   ],
   "source": [
    "#2)Compute the following functions when x = 3 and y = 2\n",
    "#2-a)\n",
    "x=3\n",
    "y=2\n",
    "\n",
    "fa = 1/2*log10(x**2)-1/2*log10(y**2)\n",
    "\n",
    "print(fa)\n"
   ]
  },
  {
   "cell_type": "code",
   "execution_count": 66,
   "metadata": {},
   "outputs": [
    {
     "name": "stdout",
     "output_type": "stream",
     "text": [
      "-1.791759469228055\n"
     ]
    }
   ],
   "source": [
    "#2-b)\n",
    "\n",
    "fb = log(1)-1/2*log(4*x**2)\n",
    "\n",
    "print(fb)"
   ]
  },
  {
   "cell_type": "code",
   "execution_count": 67,
   "metadata": {},
   "outputs": [
    {
     "name": "stdout",
     "output_type": "stream",
     "text": [
      "-0.17609125905568113\n"
     ]
    }
   ],
   "source": [
    "#2-c)\n",
    "\n",
    "fc = 1/2*log10(x**2*y**4)-1/2*log10(x**4*y**2)\n",
    "\n",
    "print(fc)"
   ]
  },
  {
   "cell_type": "code",
   "execution_count": 68,
   "metadata": {},
   "outputs": [
    {
     "name": "stdout",
     "output_type": "stream",
     "text": [
      "2.772588722239781\n"
     ]
    }
   ],
   "source": [
    "#2-d)\n",
    "\n",
    "fd = 1/8*log((x+1)**16)\n",
    "\n",
    "print(fd)"
   ]
  },
  {
   "cell_type": "code",
   "execution_count": 70,
   "metadata": {},
   "outputs": [
    {
     "data": {
      "image/png": "[encoded data removed]",
      "text/plain": [
       "<Figure size 432x288 with 4 Axes>"
      ]
     },
     "metadata": {
      "needs_background": "light"
     },
     "output_type": "display_data"
    }
   ],
   "source": [
    "#3\n",
    "\n",
    "import numpy as np\n",
    "import matplotlib.pyplot as plt\n",
    "\n",
    "xvals = list(np.arange(0.1, 10, 0.1))\n",
    "yvals = []\n",
    "for x in xvals:\n",
    "    yvals.append(x**10)#pow(x,10)\n",
    "    \n",
    "log_xvals = []\n",
    "for x in xvals:\n",
    "    log_xvals.append(log(x))\n",
    "\n",
    "log_yvals = []\n",
    "for x in yvals:\n",
    "    log_yvals.append(log(x))\n",
    "    \n",
    "    \n",
    "fig, ax = plt.subplots(2, 2)\n",
    "\n",
    "ax[0, 0].plot(xvals, yvals, '-.b')#3-a) x: linear, y:linear\n",
    "ax[0, 1].plot(xvals,log_yvals, '-.r')#3-b) x:linear, y:log\n",
    "ax[1, 0].plot(log_xvals,yvals, '-.k')#3-c) x:log, y:linear\n",
    "ax[1, 1].plot(log_xvals, log_yvals, '-.m')#3-d) x:log, y:log\n",
    "\n",
    "ax[0, 0].set_title('x: linear, y:linear')\n",
    "ax[0, 1].set_title('x:linear, y:log')\n",
    "ax[1, 0].set_title('x:log, y:linear')\n",
    "ax[1, 1].set_title('x:log, y:log')\n",
    "\n",
    "fig.tight_layout()\n",
    "plt.show()\n"
   ]
  },
  {
   "cell_type": "code",
   "execution_count": null,
   "metadata": {},
   "outputs": [],
   "source": []
  },
  {
   "cell_type": "code",
   "execution_count": null,
   "metadata": {},
   "outputs": [],
   "source": []
  },
  {
   "cell_type": "code",
   "execution_count": null,
   "metadata": {},
   "outputs": [],
   "source": []
  }
 ],
 "metadata": {
  "kernelspec": {
   "display_name": "Python 3",
   "language": "python",
   "name": "python3"
  },
  "language_info": {
   "codemirror_mode": {
    "name": "ipython",
    "version": 3
   },
   "file_extension": ".py",
   "mimetype": "text/x-python",
   "name": "python",
   "nbconvert_exporter": "python",
   "pygments_lexer": "ipython3",
   "version": "3.8.5"
  }
 },
 "nbformat": 4,
 "nbformat_minor": 4
}
