{
 "cells": [
  {
   "cell_type": "code",
   "execution_count": 71,
   "metadata": {},
   "outputs": [
    {
     "name": "stdout",
     "output_type": "stream",
     "text": [
      "f(-1) = 9\n",
      "f(0) = 1\n",
      "f(1) = 3\n"
     ]
    }
   ],
   "source": [
    "#1-a) Evaluate f(x) for x= -1, 0, 1\n",
    "\n",
    "import numpy as np\n",
    "\n",
    "function1 = [5, -3, 1]\n",
    "f1 = np.poly1d(function1) # 5*x**2 - 3*x + 1\n",
    "\n",
    "print(\"f(-1) =\",f1(-1))\n",
    "print(\"f(0) =\",f1(0))\n",
    "print(\"f(1) =\",f1(1))\n"
   ]
  },
  {
   "cell_type": "code",
   "execution_count": 72,
   "metadata": {},
   "outputs": [
    {
     "name": "stdout",
     "output_type": "stream",
     "text": [
      " \n",
      "(0.3 + 0.3317j) x + (0.3 + -0.3317j)\n"
     ]
    }
   ],
   "source": [
    "#1-b) Find the roots of f(x)\n",
    "\n",
    "function1_root = np.roots(f1)\n",
    "f1_root = np.poly1d(f1_root)\n",
    "print(f1_root)\n"
   ]
  },
  {
   "cell_type": "code",
   "execution_count": 73,
   "metadata": {},
   "outputs": [
    {
     "name": "stdout",
     "output_type": "stream",
     "text": [
      "f(x) = ( \n",
      "(0.3 + 0.3317j) x + (0.3 + -0.3317j))*( \n",
      "(0.3 + 0.3317j) x + (0.3 + -0.3317j))\n",
      "\n",
      "     = \n",
      "                   2\n",
      "(-0.02 + 0.199j) x + 0.4 x + (-0.02 + -0.199j)\n"
     ]
    }
   ],
   "source": [
    "#1-c) Factorize the f(x) manually using the solution of (b)\n",
    "print(f'f(x) = ({f1_root})*({f1_root})')\n",
    "f1_re = np.polymul(f1_root,f1_root)\n",
    "print(\"\\n     = \\n\", np.poly1d(f1_re))"
   ]
  },
  {
   "cell_type": "code",
   "execution_count": 118,
   "metadata": {},
   "outputs": [
    {
     "name": "stdout",
     "output_type": "stream",
     "text": [
      "[-1.0, -0.9, -0.8, -0.7000000000000001, -0.6000000000000001, -0.5000000000000001, -0.40000000000000013, -0.30000000000000016, -0.20000000000000018, -0.1000000000000002, -2.220446049250313e-16, 0.09999999999999964, 0.19999999999999973, 0.2999999999999998, 0.3999999999999997, 0.49999999999999956, 0.5999999999999996, 0.6999999999999997, 0.7999999999999996, 0.8999999999999995]\n"
     ]
    }
   ],
   "source": [
    "#1-d) Express x whose values are between -1 and 1 and stepping interval of 0.1.\n",
    "\n",
    "xvals = list(np.arange(-1,1,0.1))\n",
    "print(xvals)"
   ]
  },
  {
   "cell_type": "code",
   "execution_count": 119,
   "metadata": {},
   "outputs": [
    {
     "name": "stdout",
     "output_type": "stream",
     "text": [
      "[9.0, 7.75, 6.6000000000000005, 5.550000000000001, 4.6000000000000005, 3.7500000000000004, 3.000000000000001, 2.350000000000001, 1.800000000000001, 1.3500000000000008, 1.0000000000000007, 0.7500000000000007, 0.6000000000000003, 0.55, 0.5999999999999996, 0.7499999999999991, 0.9999999999999989, 1.349999999999999, 1.799999999999998, 2.349999999999997]\n"
     ]
    }
   ],
   "source": [
    "#1-e) Evaluate f(x) for the x values defined in (d).\n",
    "\n",
    "yvals = []\n",
    "for x in xvals:\n",
    "    yvals.append(f1(x))  \n",
    "print(yvals)\n"
   ]
  },
  {
   "cell_type": "code",
   "execution_count": 120,
   "metadata": {},
   "outputs": [
    {
     "data": {
      "image/png": "[encoded data removed]",
      "text/plain": [
       "<Figure size 432x288 with 1 Axes>"
      ]
     },
     "metadata": {
      "needs_background": "light"
     },
     "output_type": "display_data"
    }
   ],
   "source": [
    "#1-f) Plot f(x) in (e).  Label the x-axis as “X” and the y-axis “F(x)”.  Turn the grid on.\n",
    "import matplotlib.pyplot as plt\n",
    "\n",
    "plt.plot(xvals, yvals, 'o')\n",
    "plt.title('f(x) plots')\n",
    "plt.xlabel('X')\n",
    "plt.ylabel('F(x)')\n",
    "plt.grid()\n",
    "plt.show()"
   ]
  },
  {
   "cell_type": "code",
   "execution_count": 121,
   "metadata": {},
   "outputs": [
    {
     "name": "stdout",
     "output_type": "stream",
     "text": [
      "f(x) = \n",
      "\n",
      "   2\n",
      "1 x - 5 x + 1\n",
      "\n",
      "\n",
      "g(x) = \n",
      "\n",
      "   2\n",
      "1 x - 3 x + 7\n"
     ]
    }
   ],
   "source": [
    "#2-a) Express f(x) and g(x) in Python.\n",
    "function2f = [1, -5, 1]\n",
    "function3g = [1, -3, 7]\n",
    "\n",
    "f2 = np.poly1d(function2f)\n",
    "g1 = np.poly1d(function3g)\n",
    "print(\"f(x) = \\n\")\n",
    "print(f2)\n",
    "print(\"\\n\\ng(x) = \\n\")\n",
    "print(g1)"
   ]
  },
  {
   "cell_type": "code",
   "execution_count": 122,
   "metadata": {},
   "outputs": [
    {
     "name": "stdout",
     "output_type": "stream",
     "text": [
      "h(x) = \n",
      "\n",
      "   4     3      2\n",
      "1 x - 8 x + 23 x - 38 x + 7\n"
     ]
    }
   ],
   "source": [
    "#2-b) Compute h(x) = f(x)*g(x)\n",
    "\n",
    "h1 = np.polymul(f2, g1)\n",
    "print(\"h(x) = \\n\")\n",
    "print(h1)"
   ]
  },
  {
   "cell_type": "code",
   "execution_count": 123,
   "metadata": {},
   "outputs": [
    {
     "name": "stdout",
     "output_type": "stream",
     "text": [
      "q =   \n",
      "1\n",
      "\n",
      "r =   \n",
      "-2 x - 6\n"
     ]
    }
   ],
   "source": [
    "#2-c) Compute q, r = f(x)/g(x)\n",
    "\n",
    "q, r = np.polydiv(f2, g1) #f(x)/g(x)\n",
    "#print(\"q, r = \\n\")\n",
    "print(\"q = \",q)\n",
    "print(\"\\nr = \",r)"
   ]
  },
  {
   "cell_type": "code",
   "execution_count": null,
   "metadata": {},
   "outputs": [],
   "source": []
  },
  {
   "cell_type": "code",
   "execution_count": null,
   "metadata": {},
   "outputs": [],
   "source": []
  },
  {
   "cell_type": "code",
   "execution_count": null,
   "metadata": {},
   "outputs": [],
   "source": []
  }
 ],
 "metadata": {
  "kernelspec": {
   "display_name": "Python 3",
   "language": "python",
   "name": "python3"
  },
  "language_info": {
   "codemirror_mode": {
    "name": "ipython",
    "version": 3
   },
   "file_extension": ".py",
   "mimetype": "text/x-python",
   "name": "python",
   "nbconvert_exporter": "python",
   "pygments_lexer": "ipython3",
   "version": "3.7.6"
  }
 },
 "nbformat": 4,
 "nbformat_minor": 4
}
